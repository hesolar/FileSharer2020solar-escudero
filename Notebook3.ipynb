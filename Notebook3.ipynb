{
  "nbformat": 4,
  "nbformat_minor": 0,
  "metadata": {
    "colab": {
      "name": "Notebook3.ipynb",
      "provenance": [],
      "authorship_tag": "ABX9TyNx9ADapxo0A/8XPA/P9hmA",
      "include_colab_link": true
    },
    "kernelspec": {
      "name": "python3",
      "display_name": "Python 3"
    }
  },
  "cells": [
    {
      "cell_type": "markdown",
      "metadata": {
        "id": "view-in-github",
        "colab_type": "text"
      },
      "source": [
        "<a href=\"https://colab.research.google.com/github/hesolar/TrabajoDistribuidos2020solar-escudero/blob/master/Notebook3.ipynb\" target=\"_parent\"><img src=\"https://colab.research.google.com/assets/colab-badge.svg\" alt=\"Open In Colab\"/></a>"
      ]
    },
    {
      "cell_type": "markdown",
      "metadata": {
        "id": "wpX8iy8Rxj0P"
      },
      "source": [
        "Importamos los recursos necesarios"
      ]
    },
    {
      "cell_type": "code",
      "metadata": {
        "id": "l-T-oxemLgS8"
      },
      "source": [
        "kaggle competitions download -c ia2021\n"
      ],
      "execution_count": null,
      "outputs": []
    },
    {
      "cell_type": "code",
      "metadata": {
        "id": "XT5wFBAexRrO"
      },
      "source": [
        "import pandas as pd\n",
        "from sklearn.model_selection import train_test_split"
      ],
      "execution_count": 11,
      "outputs": []
    },
    {
      "cell_type": "markdown",
      "metadata": {
        "id": "qYlgQalBxsiy"
      },
      "source": [
        "Creamos los datos necesarios"
      ]
    },
    {
      "cell_type": "code",
      "metadata": {
        "id": "DG3asgcaEc9-"
      },
      "source": [
        "df_train = pd.read_csv('train.csv')\n",
        "df_test = pd.read_csv('test.csv')\n",
        "\n",
        "import pandas as pd\n",
        "X =  df_train.values[:,:-1]\n",
        "Y =  df_train.values[:,-1]\n",
        "\n",
        "\n",
        "#(trainData, testData, trainLabels, testLabels)= train_test_split(X,Y,test_size=0.25, random_state=42)\n",
        "\n",
        "X2 =  df_test.values[:,:-1]\n",
        "Y2 =  df_test.values[:,-1]\n",
        "\n"
      ],
      "execution_count": 18,
      "outputs": []
    },
    {
      "cell_type": "markdown",
      "metadata": {
        "id": "euDz4nlB3krh"
      },
      "source": [
        "Probaremos a continuacion diferentes modelos"
      ]
    },
    {
      "cell_type": "code",
      "metadata": {
        "id": "PWrqob6SyIeR"
      },
      "source": [
        "from sklearn.neighbors import KNeighborsClassifier\n",
        "import numpy as nump\n",
        "from sklearn.tree import DecisionTreeClassifier\n",
        "from sklearn.linear_model import LogisticRegression\n",
        "from sklearn.svm import SVC\n",
        "from sklearn.linear_model import Perceptron\n",
        "from sklearn.neural_network import MLPClassifier\n"
      ],
      "execution_count": 14,
      "outputs": []
    },
    {
      "cell_type": "markdown",
      "metadata": {
        "id": "7XSFIGsRzHCo"
      },
      "source": [
        "La función evalua nos permitirá ver el % de acierto de los distintos modelos ,\n",
        "la segunda nos mostrara los resultados de los modelos "
      ]
    },
    {
      "cell_type": "code",
      "metadata": {
        "id": "8r4OCVabzGW4"
      },
      "source": [
        "def evaluaModelo(clasificador):\n",
        "  clasificador.fit(X,Y)\n",
        "  return clasificador.predict(df_test[0:len(df_test)])\n",
        "def escribeResultados(l):\n",
        "  for el in l:\n",
        "   print(l[el]+'------'+str(evaluaModelo(el)))"
      ],
      "execution_count": 15,
      "outputs": []
    },
    {
      "cell_type": "markdown",
      "metadata": {
        "id": "QYoSXxyM1rik"
      },
      "source": [
        "A continuación creamos los distintos modelos vistos en la p5"
      ]
    },
    {
      "cell_type": "code",
      "metadata": {
        "id": "JbRtVLCFyRr7"
      },
      "source": [
        "modelKNN = KNeighborsClassifier(n_neighbors=5)\n",
        "modelArbol= DecisionTreeClassifier(random_state=84)\n",
        "modelLR= LogisticRegression(max_iter=10000,random_state=84)\n",
        "#este modelo cuesta demasiado tiempo ejecutarse, lo comento\n",
        "#modelSVMLineal= SVC(kernel=\"linear\")\n",
        "modelSVMSigmoide = SVC(kernel=\"sigmoid\")\n",
        "modelPerceptron= Perceptron(max_iter=100,eta0=1.0,random_state=84)\n",
        "modelMultiLayerPerceptron= MLPClassifier(hidden_layer_sizes=(5,2),learning_rate_init=0.01,momentum=0.9)\n",
        "\n"
      ],
      "execution_count": 16,
      "outputs": []
    },
    {
      "cell_type": "code",
      "metadata": {
        "colab": {
          "base_uri": "https://localhost:8080/"
        },
        "id": "8M-B8eYD_vPr",
        "outputId": "a616420b-5976-4d96-f317-59720acac9d1"
      },
      "source": [
        "#Añado modelos a una lista\n",
        "l={}\n",
        "l[modelKNN]='Modelo KNN'\n",
        "l[modelArbol]='Modelo Arbol'\n",
        "l[modelLR]='Modelo LR'\n",
        "l[modelSVMSigmoide]='Modelo SIgmoide'\n",
        "l[modelPerceptron]='Modelo Perceptron'\n",
        "l[modelMultiLayerPerceptron]='Modelo Multilayer Perceptron'\n",
        "escribeResultados(l)"
      ],
      "execution_count": 17,
      "outputs": [
        {
          "output_type": "stream",
          "text": [
            "Modelo KNN------[4. 2. 2. ... 3. 4. 3.]\n",
            "Modelo Arbol------[4. 2. 3. ... 2. 4. 3.]\n",
            "Modelo LR------[3. 3. 0. ... 0. 0. 3.]\n",
            "Modelo SIgmoide------[4. 0. 0. ... 3. 3. 5.]\n",
            "Modelo Perceptron------[0. 5. 5. ... 0. 0. 0.]\n",
            "Modelo Multilayer Perceptron------[0. 0. 0. ... 0. 0. 0.]\n"
          ],
          "name": "stdout"
        }
      ]
    },
    {
      "cell_type": "code",
      "metadata": {
        "id": "_9Jnu5Xlw0Mw"
      },
      "source": [
        ""
      ],
      "execution_count": null,
      "outputs": []
    }
  ]
}