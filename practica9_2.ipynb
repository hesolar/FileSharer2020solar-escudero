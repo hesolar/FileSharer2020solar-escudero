{
  "nbformat": 4,
  "nbformat_minor": 0,
  "metadata": {
    "colab": {
      "name": "practica9_2.ipynb",
      "provenance": [],
      "collapsed_sections": [],
      "toc_visible": true,
      "include_colab_link": true
    },
    "kernelspec": {
      "display_name": "Python 3",
      "language": "python",
      "name": "python3"
    },
    "language_info": {
      "codemirror_mode": {
        "name": "ipython",
        "version": 3
      },
      "file_extension": ".py",
      "mimetype": "text/x-python",
      "name": "python",
      "nbconvert_exporter": "python",
      "pygments_lexer": "ipython3",
      "version": "3.6.7"
    },
    "accelerator": "GPU"
  },
  "cells": [
    {
      "cell_type": "markdown",
      "metadata": {
        "id": "view-in-github",
        "colab_type": "text"
      },
      "source": [
        "<a href=\"https://colab.research.google.com/github/hesolar/TrabajoDistribuidos2020solar-escudero/blob/master/practica9_2.ipynb\" target=\"_parent\"><img src=\"https://colab.research.google.com/assets/colab-badge.svg\" alt=\"Open In Colab\"/></a>"
      ]
    },
    {
      "cell_type": "markdown",
      "metadata": {
        "id": "6phqqXPIv6hp"
      },
      "source": [
        "# Práctica 9 Parte 2: Análisis de sentimientos\n",
        "\n",
        "El análisis de sentimientos es un problema de procesado de lenguaje natural donde se pretende conocer la intención de un texto. En esta práctica vamos a ver cómo predecir el sentimiento, positivo o negativo, de una valoracion de una película.\n",
        "\n",
        "En esta ocasión vamos a utilizar la librería de deep learning [Keras](https://keras.io/).\n",
        "\n",
        "\n",
        "En esta práctica es importante que actives el uso de GPU. Para ello ve al menú Edit -> Notebook settings y en la opción Hardware accelerator selecciona la opción de GPU.\n"
      ]
    },
    {
      "cell_type": "markdown",
      "metadata": {
        "id": "BuxiF_2TwdXJ"
      },
      "source": [
        "## Dataset\n",
        "\n",
        "El dataset usado en esta sesión es el dataset [IMDB](http://ai.stanford.edu/~amaas/data/sentiment/). Dicho dataset contiene 25000 valoraciones (positivas y negativas) para entrenar, y 25000 valoraciones  para testear. El objetivo es ser capaz de determinar si una valoración de una película es positiva o negativa. \n",
        "\n",
        "Keras proporciona acceso directo al dataset IMDB en un formato listo para ser usado por las redes neuronales, lo que evita tener que descargarlo y procesarlo. La función ``imdb.load_data()`` permite cargar el dataset donde las palabras han sido reemplazadas por enteros que indican la popularidad (número de apariciones)  de una palabra en el dataset. "
      ]
    },
    {
      "cell_type": "code",
      "metadata": {
        "id": "RKUmkF-Kv5nK",
        "colab": {
          "base_uri": "https://localhost:8080/"
        },
        "outputId": "4fd999ce-6095-479b-de02-951bf751907d"
      },
      "source": [
        "import numpy as np\n",
        "from tensorflow import keras\n",
        "from tensorflow.keras import layers\n",
        "from keras.datasets import imdb\n",
        "from matplotlib import pyplot as plt\n",
        "%matplotlib inline\n",
        "\n",
        "(X_train,y_train), (X_test,y_test) = imdb.load_data()"
      ],
      "execution_count": null,
      "outputs": [
        {
          "output_type": "stream",
          "text": [
            "<string>:6: VisibleDeprecationWarning: Creating an ndarray from ragged nested sequences (which is a list-or-tuple of lists-or-tuples-or ndarrays with different lengths or shapes) is deprecated. If you meant to do this, you must specify 'dtype=object' when creating the ndarray\n",
            "/usr/local/lib/python3.7/dist-packages/tensorflow/python/keras/datasets/imdb.py:159: VisibleDeprecationWarning: Creating an ndarray from ragged nested sequences (which is a list-or-tuple of lists-or-tuples-or ndarrays with different lengths or shapes) is deprecated. If you meant to do this, you must specify 'dtype=object' when creating the ndarray\n",
            "  x_train, y_train = np.array(xs[:idx]), np.array(labels[:idx])\n",
            "/usr/local/lib/python3.7/dist-packages/tensorflow/python/keras/datasets/imdb.py:160: VisibleDeprecationWarning: Creating an ndarray from ragged nested sequences (which is a list-or-tuple of lists-or-tuples-or ndarrays with different lengths or shapes) is deprecated. If you meant to do this, you must specify 'dtype=object' when creating the ndarray\n",
            "  x_test, y_test = np.array(xs[idx:]), np.array(labels[idx:])\n"
          ],
          "name": "stderr"
        }
      ]
    },
    {
      "cell_type": "markdown",
      "metadata": {
        "id": "NUgMh_RNxqxN"
      },
      "source": [
        "A continuación mostramos la forma del dataset"
      ]
    },
    {
      "cell_type": "code",
      "metadata": {
        "id": "a-6xEME5xhSL",
        "colab": {
          "base_uri": "https://localhost:8080/"
        },
        "outputId": "eee72e2c-5725-4d50-aeaa-d34697935981"
      },
      "source": [
        "print(\"Datos entrenamiento: \")\n",
        "print(X_train.shape)\n",
        "print(y_train.shape)\n",
        "\n",
        "print(\"Datos test: \")\n",
        "print(X_test.shape)\n",
        "print(y_test.shape)"
      ],
      "execution_count": null,
      "outputs": [
        {
          "output_type": "stream",
          "text": [
            "Datos entrenamiento: \n",
            "(25000,)\n",
            "(25000,)\n",
            "Datos test: \n",
            "(25000,)\n",
            "(25000,)\n"
          ],
          "name": "stdout"
        }
      ]
    },
    {
      "cell_type": "markdown",
      "metadata": {
        "id": "v3tU1rzR02ml"
      },
      "source": [
        "Podemos también mostrar que aspecto tienen los elementos de nuestro dataset. "
      ]
    },
    {
      "cell_type": "code",
      "metadata": {
        "id": "yp1zZjX30XvF",
        "colab": {
          "base_uri": "https://localhost:8080/"
        },
        "outputId": "c966bb27-dcef-48e7-916c-06e15dfa337b"
      },
      "source": [
        "X_train[0]"
      ],
      "execution_count": null,
      "outputs": [
        {
          "output_type": "execute_result",
          "data": {
            "text/plain": [
              "[1,\n",
              " 14,\n",
              " 22,\n",
              " 16,\n",
              " 43,\n",
              " 530,\n",
              " 973,\n",
              " 1622,\n",
              " 1385,\n",
              " 65,\n",
              " 458,\n",
              " 4468,\n",
              " 66,\n",
              " 3941,\n",
              " 4,\n",
              " 173,\n",
              " 36,\n",
              " 256,\n",
              " 5,\n",
              " 25,\n",
              " 100,\n",
              " 43,\n",
              " 838,\n",
              " 112,\n",
              " 50,\n",
              " 670,\n",
              " 22665,\n",
              " 9,\n",
              " 35,\n",
              " 480,\n",
              " 284,\n",
              " 5,\n",
              " 150,\n",
              " 4,\n",
              " 172,\n",
              " 112,\n",
              " 167,\n",
              " 21631,\n",
              " 336,\n",
              " 385,\n",
              " 39,\n",
              " 4,\n",
              " 172,\n",
              " 4536,\n",
              " 1111,\n",
              " 17,\n",
              " 546,\n",
              " 38,\n",
              " 13,\n",
              " 447,\n",
              " 4,\n",
              " 192,\n",
              " 50,\n",
              " 16,\n",
              " 6,\n",
              " 147,\n",
              " 2025,\n",
              " 19,\n",
              " 14,\n",
              " 22,\n",
              " 4,\n",
              " 1920,\n",
              " 4613,\n",
              " 469,\n",
              " 4,\n",
              " 22,\n",
              " 71,\n",
              " 87,\n",
              " 12,\n",
              " 16,\n",
              " 43,\n",
              " 530,\n",
              " 38,\n",
              " 76,\n",
              " 15,\n",
              " 13,\n",
              " 1247,\n",
              " 4,\n",
              " 22,\n",
              " 17,\n",
              " 515,\n",
              " 17,\n",
              " 12,\n",
              " 16,\n",
              " 626,\n",
              " 18,\n",
              " 19193,\n",
              " 5,\n",
              " 62,\n",
              " 386,\n",
              " 12,\n",
              " 8,\n",
              " 316,\n",
              " 8,\n",
              " 106,\n",
              " 5,\n",
              " 4,\n",
              " 2223,\n",
              " 5244,\n",
              " 16,\n",
              " 480,\n",
              " 66,\n",
              " 3785,\n",
              " 33,\n",
              " 4,\n",
              " 130,\n",
              " 12,\n",
              " 16,\n",
              " 38,\n",
              " 619,\n",
              " 5,\n",
              " 25,\n",
              " 124,\n",
              " 51,\n",
              " 36,\n",
              " 135,\n",
              " 48,\n",
              " 25,\n",
              " 1415,\n",
              " 33,\n",
              " 6,\n",
              " 22,\n",
              " 12,\n",
              " 215,\n",
              " 28,\n",
              " 77,\n",
              " 52,\n",
              " 5,\n",
              " 14,\n",
              " 407,\n",
              " 16,\n",
              " 82,\n",
              " 10311,\n",
              " 8,\n",
              " 4,\n",
              " 107,\n",
              " 117,\n",
              " 5952,\n",
              " 15,\n",
              " 256,\n",
              " 4,\n",
              " 31050,\n",
              " 7,\n",
              " 3766,\n",
              " 5,\n",
              " 723,\n",
              " 36,\n",
              " 71,\n",
              " 43,\n",
              " 530,\n",
              " 476,\n",
              " 26,\n",
              " 400,\n",
              " 317,\n",
              " 46,\n",
              " 7,\n",
              " 4,\n",
              " 12118,\n",
              " 1029,\n",
              " 13,\n",
              " 104,\n",
              " 88,\n",
              " 4,\n",
              " 381,\n",
              " 15,\n",
              " 297,\n",
              " 98,\n",
              " 32,\n",
              " 2071,\n",
              " 56,\n",
              " 26,\n",
              " 141,\n",
              " 6,\n",
              " 194,\n",
              " 7486,\n",
              " 18,\n",
              " 4,\n",
              " 226,\n",
              " 22,\n",
              " 21,\n",
              " 134,\n",
              " 476,\n",
              " 26,\n",
              " 480,\n",
              " 5,\n",
              " 144,\n",
              " 30,\n",
              " 5535,\n",
              " 18,\n",
              " 51,\n",
              " 36,\n",
              " 28,\n",
              " 224,\n",
              " 92,\n",
              " 25,\n",
              " 104,\n",
              " 4,\n",
              " 226,\n",
              " 65,\n",
              " 16,\n",
              " 38,\n",
              " 1334,\n",
              " 88,\n",
              " 12,\n",
              " 16,\n",
              " 283,\n",
              " 5,\n",
              " 16,\n",
              " 4472,\n",
              " 113,\n",
              " 103,\n",
              " 32,\n",
              " 15,\n",
              " 16,\n",
              " 5345,\n",
              " 19,\n",
              " 178,\n",
              " 32]"
            ]
          },
          "metadata": {
            "tags": []
          },
          "execution_count": 4
        }
      ]
    },
    {
      "cell_type": "markdown",
      "metadata": {
        "id": "Vny1jGOW07rt"
      },
      "source": [
        "A partir de la instrucción anterior podemos ver que los elementos de nuestro dataset se representan mediante una lista de enteros, donde cada entero está asociado a una palabra. Para restaurar el mensaje original podemos ejecutar el siguiente comando."
      ]
    },
    {
      "cell_type": "code",
      "metadata": {
        "id": "2U-wuB5V1HlN",
        "colab": {
          "base_uri": "https://localhost:8080/",
          "height": 121
        },
        "outputId": "982cecc2-5ee9-4069-efb8-7becc1d65030"
      },
      "source": [
        "word_index = imdb.get_word_index()\n",
        "reverse_word_index = dict([(value, key) for (key, value) in word_index.items()])\n",
        "' '.join([reverse_word_index.get(i - 3, '?') for i in X_train[0]])"
      ],
      "execution_count": null,
      "outputs": [
        {
          "output_type": "execute_result",
          "data": {
            "application/vnd.google.colaboratory.intrinsic+json": {
              "type": "string"
            },
            "text/plain": [
              "\"? this film was just brilliant casting location scenery story direction everyone's really suited the part they played and you could just imagine being there robert redford's is an amazing actor and now the same being director norman's father came from the same scottish island as myself so i loved the fact there was a real connection with this film the witty remarks throughout the film were great it was just brilliant so much that i bought the film as soon as it was released for retail and would recommend it to everyone to watch and the fly fishing was amazing really cried at the end it was so sad and you know what they say if you cry at a film it must have been good and this definitely was also congratulations to the two little boy's that played the part's of norman and paul they were just brilliant children are often left out of the praising list i think because the stars that play them all grown up are such a big profile for the whole film but these children are amazing and should be praised for what they have done don't you think the whole story was so lovely because it was true and was someone's life after all that was shared with us all\""
            ]
          },
          "metadata": {
            "tags": []
          },
          "execution_count": 5
        }
      ]
    },
    {
      "cell_type": "markdown",
      "metadata": {
        "id": "i2xguDlUx4HE"
      },
      "source": [
        "Podemos también mostrar el número de clases (veremos que nos devuelve dos clases, el 0 representa una valoración negativa y el 1 una valoración positiva)"
      ]
    },
    {
      "cell_type": "code",
      "metadata": {
        "id": "R2Is1hLMx3lH",
        "colab": {
          "base_uri": "https://localhost:8080/"
        },
        "outputId": "471849ba-92a7-481d-f5aa-7b9c1583ce2d"
      },
      "source": [
        "print(\"Clases: \")\n",
        "print(np.unique(y_train))"
      ],
      "execution_count": null,
      "outputs": [
        {
          "output_type": "stream",
          "text": [
            "Clases: \n",
            "[0 1]\n"
          ],
          "name": "stdout"
        }
      ]
    },
    {
      "cell_type": "markdown",
      "metadata": {
        "id": "yXAyv1tRyA0p"
      },
      "source": [
        "También podemos ver el número total de palabras del dataset. "
      ]
    },
    {
      "cell_type": "code",
      "metadata": {
        "id": "V-wdh746x0ys",
        "colab": {
          "base_uri": "https://localhost:8080/"
        },
        "outputId": "fce8a6ba-d405-432e-c90d-4f75408ed3f3"
      },
      "source": [
        "print(\"Número de palabras: \")\n",
        "print(len(np.unique(np.hstack(X_train))))"
      ],
      "execution_count": null,
      "outputs": [
        {
          "output_type": "stream",
          "text": [
            "Número de palabras: \n",
            "88585\n"
          ],
          "name": "stdout"
        }
      ]
    },
    {
      "cell_type": "markdown",
      "metadata": {
        "id": "oI_wbtThyLeE"
      },
      "source": [
        "Finalmente, podemos ver la longitud media de las valoraciones. "
      ]
    },
    {
      "cell_type": "code",
      "metadata": {
        "id": "LDpgxcCKyHZy",
        "colab": {
          "base_uri": "https://localhost:8080/",
          "height": 300
        },
        "outputId": "f5e6d696-208c-49f0-a3c3-40be8ae46fb6"
      },
      "source": [
        "print(\"Longitud media: \")\n",
        "result = [len(x) for x in X_train]\n",
        "print(\"Media %.2f palabras (%f)\" % (np.mean(result),np.std(result)))\n",
        "plt.subplot(121)\n",
        "plt.boxplot(result)\n",
        "plt.subplot(122)\n",
        "plt.hist(result)\n",
        "plt.show()"
      ],
      "execution_count": null,
      "outputs": [
        {
          "output_type": "stream",
          "text": [
            "Longitud media: \n",
            "Media 238.71 palabras (176.493674)\n"
          ],
          "name": "stdout"
        },
        {
          "output_type": "display_data",
          "data": {
            "image/png": "[encoded data removed]",
            "text/plain": [
              "<Figure size 432x288 with 2 Axes>"
            ]
          },
          "metadata": {
            "tags": [],
            "needs_background": "light"
          }
        }
      ]
    },
    {
      "cell_type": "markdown",
      "metadata": {
        "id": "sporAx6Fy8U2"
      },
      "source": [
        "##### Ejercicio\n",
        "A partir de los diagramas anteriores, ¿qué puedes decir del tamaño de las valoraciones? ¿Cuál sería el tamaño de la valoración más larga (para esta pregunta puedes ejecutar alguna instrucción adicional)?"
      ]
    },
    {
      "cell_type": "markdown",
      "metadata": {
        "id": "rQCPtm-9ZNtS"
      },
      "source": [
        "La mayoría de valoraciones están concentradas aproximadamente entre los intervalos 0-500 , la media está próxima a 200."
      ]
    },
    {
      "cell_type": "code",
      "metadata": {
        "id": "IEOgsZZNS-6Y",
        "colab": {
          "base_uri": "https://localhost:8080/"
        },
        "outputId": "21a14837-4ecb-4535-c4e9-ba10d21a0b7a"
      },
      "source": [
        "result = [len(x) for x in X_train]\n",
        "print(\"Máximo de palabras (%f)\" % (max(result)))\n",
        "print(\"Media %.2f palabras (%f)\" % (np.mean(result),np.std(result)))\n",
        "print(\"Min de palabras (%f)\" % (min(result)))\n"
      ],
      "execution_count": null,
      "outputs": [
        {
          "output_type": "stream",
          "text": [
            "Máximo de palabras (2494.000000)\n",
            "Media 238.71 palabras (176.493674)\n",
            "Min de palabras (11.000000)\n"
          ],
          "name": "stdout"
        }
      ]
    },
    {
      "cell_type": "markdown",
      "metadata": {
        "id": "IK8fKDD8zU1N"
      },
      "source": [
        "## Word embeddings\n",
        "\n",
        "Como ya hemos visto, uno de los grandes avances más recientes en el área del procesamiento de lenguaje natural son los *word embeddings*. Los *word embeddings* son una técnica donde las palabras se codifican como vectores de reales en un espacio de dimensión alta, donde las similaridad entre palabras se traduce en cercanía de los vectores. Esto s muy útil ya que al trabajar con redes neuronales se requiere una conversión de las palabras a números. \n",
        "\n",
        "Por el momento no vamos a usar ningún word embedding de los vistos con anterioridad, sino que vamos aprenderlos directamente a partir de nuestros datos. Keras proporciona una manera sencilla de convertir representaciones de palabras mediante enteros positios a un word embedding mediante una capa de ``Embedding``. Esta capa toma argumentos que definen la asociación de palabras a vectores. Estos argumentos incluyen el número máximo de palabras esperadas, también conocido como el tamaño del vocabulario. Esta capa también permite especificar la dimensionalidad de la representación.\n",
        "\n",
        "Queremos usar una representación para nuestro dataset. Digamos que estamos interesados en las 5000 palabras más usadas del dataset. Por lo tanto, nuestro vocabulario tendrá 5000 elementos. También podemos elegir usar un vector de dimensión 32 para representar cada una de las palabras. Finalmente, podemos fijar que la longitud máxima de las valoraciones sea de 500 palabras, truncando aquellas que son más largas y añadiendo ceros a las que son más cortas. Vamos a obtener de nuevo nuestro dataset teniendo esto en cuenta. También vamos a definir un conjunto de validación usando el 20% del conjunto de entrenamiento. "
      ]
    },
    {
      "cell_type": "code",
      "metadata": {
        "id": "9_NDC7Nb18NR",
        "colab": {
          "base_uri": "https://localhost:8080/"
        },
        "outputId": "99ec5f74-b3ef-46f3-fe24-987bf8beeafd"
      },
      "source": [
        "from sklearn.model_selection import train_test_split\n",
        "(X_train,y_train), (X_test,y_test) = imdb.load_data(num_words=5000)\n",
        "X_train, X_val, y_train, y_val = train_test_split(X_train, y_train, \n",
        "                                                    test_size=0.2,\n",
        "                                                    random_state=15)"
      ],
      "execution_count": null,
      "outputs": [
        {
          "output_type": "stream",
          "text": [
            "<string>:6: VisibleDeprecationWarning: Creating an ndarray from ragged nested sequences (which is a list-or-tuple of lists-or-tuples-or ndarrays with different lengths or shapes) is deprecated. If you meant to do this, you must specify 'dtype=object' when creating the ndarray\n",
            "/usr/local/lib/python3.7/dist-packages/tensorflow/python/keras/datasets/imdb.py:159: VisibleDeprecationWarning: Creating an ndarray from ragged nested sequences (which is a list-or-tuple of lists-or-tuples-or ndarrays with different lengths or shapes) is deprecated. If you meant to do this, you must specify 'dtype=object' when creating the ndarray\n",
            "  x_train, y_train = np.array(xs[:idx]), np.array(labels[:idx])\n",
            "/usr/local/lib/python3.7/dist-packages/tensorflow/python/keras/datasets/imdb.py:160: VisibleDeprecationWarning: Creating an ndarray from ragged nested sequences (which is a list-or-tuple of lists-or-tuples-or ndarrays with different lengths or shapes) is deprecated. If you meant to do this, you must specify 'dtype=object' when creating the ndarray\n",
            "  x_test, y_test = np.array(xs[idx:]), np.array(labels[idx:])\n"
          ],
          "name": "stderr"
        }
      ]
    },
    {
      "cell_type": "markdown",
      "metadata": {
        "id": "-SK9-Tl_hb_8"
      },
      "source": [
        "Podemos ahora truncar o completar cada una de las valoraciones para que contenga 500 palabras."
      ]
    },
    {
      "cell_type": "code",
      "metadata": {
        "id": "mSzzZrpMhbvc"
      },
      "source": [
        "from keras.preprocessing import sequence\n",
        "max_words = 500\n",
        "X_train = sequence.pad_sequences(X_train, maxlen=max_words)\n",
        "X_val = sequence.pad_sequences(X_val, maxlen=max_words)\n",
        "X_test = sequence.pad_sequences(X_test, maxlen=max_words)"
      ],
      "execution_count": null,
      "outputs": []
    },
    {
      "cell_type": "markdown",
      "metadata": {
        "id": "nnzqo7W1hsjS"
      },
      "source": [
        "## Modelo Red Neuronal Simple\n",
        "\n",
        "Vamos a construir varios modelos para nuestro dataset. Comenzaremos con una red neuronal multicapa con una única capa oculta. La innovación será la capa de word embedding que muestra cómo se pueden conseguir buenos resultados con un modelo tan simple. \n",
        "\n",
        "Comenzamos importando las funciones necesarias e inicializando una semilla para obtener resultados consistentes. "
      ]
    },
    {
      "cell_type": "code",
      "metadata": {
        "id": "JRgSo0KxhVpk"
      },
      "source": [
        "from keras.models import Sequential\n",
        "from keras.layers import Dense\n",
        "from keras.layers import Flatten\n",
        "from keras.layers.embeddings import Embedding\n",
        "\n",
        "seed = 15\n",
        "np.random.seed(seed)"
      ],
      "execution_count": null,
      "outputs": []
    },
    {
      "cell_type": "markdown",
      "metadata": {
        "id": "h4WK-RLKiOc1"
      },
      "source": [
        "A continuación creamos nuestro modelo."
      ]
    },
    {
      "cell_type": "code",
      "metadata": {
        "id": "UWSEjE-FiMIi",
        "colab": {
          "base_uri": "https://localhost:8080/"
        },
        "outputId": "ffc49df2-45dd-4a9d-dd9b-d3746dbc175c"
      },
      "source": [
        "top_words = 5000\n",
        "def create_model():\n",
        "  model = Sequential()\n",
        "  model.add(Embedding(top_words,32,input_length=max_words))\n",
        "  model.add(Flatten())\n",
        "  model.add(Dense(250,activation='relu'))\n",
        "  model.add(Dense(1,activation='sigmoid'))\n",
        "  model.compile(loss='binary_crossentropy',optimizer='adam',metrics=['accuracy'])\n",
        "  print(model.summary())\n",
        "  return model\n",
        "\n",
        "model1 = create_model()"
      ],
      "execution_count": null,
      "outputs": [
        {
          "output_type": "stream",
          "text": [
            "Model: \"sequential\"\n",
            "_________________________________________________________________\n",
            "Layer (type)                 Output Shape              Param #   \n",
            "=================================================================\n",
            "embedding (Embedding)        (None, 500, 32)           160000    \n",
            "_________________________________________________________________\n",
            "flatten (Flatten)            (None, 16000)             0         \n",
            "_________________________________________________________________\n",
            "dense (Dense)                (None, 250)               4000250   \n",
            "_________________________________________________________________\n",
            "dense_1 (Dense)              (None, 1)                 251       \n",
            "=================================================================\n",
            "Total params: 4,160,501\n",
            "Trainable params: 4,160,501\n",
            "Non-trainable params: 0\n",
            "_________________________________________________________________\n",
            "None\n"
          ],
          "name": "stdout"
        }
      ]
    },
    {
      "cell_type": "markdown",
      "metadata": {
        "id": "r3lFAC4Qim6l"
      },
      "source": [
        "Vamos ahora a entrenar el modelo y a mostrar su curva de entrenamiento y validación. "
      ]
    },
    {
      "cell_type": "code",
      "metadata": {
        "id": "ka-LkfnTikox",
        "colab": {
          "base_uri": "https://localhost:8080/"
        },
        "outputId": "815628c1-a89c-42c3-9f77-4c40b6768b3c"
      },
      "source": [
        "history = model1.fit(X_train,y_train,validation_data=(X_val,y_val),epochs=10,batch_size=128,verbose=1)"
      ],
      "execution_count": null,
      "outputs": [
        {
          "output_type": "stream",
          "text": [
            "Epoch 1/10\n",
            "157/157 [==============================] - 17s 103ms/step - loss: 0.6197 - accuracy: 0.6243 - val_loss: 0.3383 - val_accuracy: 0.8508\n",
            "Epoch 2/10\n",
            "157/157 [==============================] - 16s 101ms/step - loss: 0.1783 - accuracy: 0.9338 - val_loss: 0.3083 - val_accuracy: 0.8750\n",
            "Epoch 3/10\n",
            "157/157 [==============================] - 16s 101ms/step - loss: 0.0524 - accuracy: 0.9884 - val_loss: 0.4021 - val_accuracy: 0.8652\n",
            "Epoch 4/10\n",
            "157/157 [==============================] - 16s 102ms/step - loss: 0.0110 - accuracy: 0.9992 - val_loss: 0.4725 - val_accuracy: 0.8680\n",
            "Epoch 5/10\n",
            "157/157 [==============================] - 16s 102ms/step - loss: 0.0021 - accuracy: 1.0000 - val_loss: 0.5352 - val_accuracy: 0.8672\n",
            "Epoch 6/10\n",
            "157/157 [==============================] - 16s 101ms/step - loss: 8.8725e-04 - accuracy: 1.0000 - val_loss: 0.5619 - val_accuracy: 0.8672\n",
            "Epoch 7/10\n",
            "157/157 [==============================] - 16s 100ms/step - loss: 4.7260e-04 - accuracy: 1.0000 - val_loss: 0.5873 - val_accuracy: 0.8678\n",
            "Epoch 8/10\n",
            "157/157 [==============================] - 16s 101ms/step - loss: 3.1935e-04 - accuracy: 1.0000 - val_loss: 0.6055 - val_accuracy: 0.8690\n",
            "Epoch 9/10\n",
            "157/157 [==============================] - 16s 100ms/step - loss: 2.3185e-04 - accuracy: 1.0000 - val_loss: 0.6242 - val_accuracy: 0.8690\n",
            "Epoch 10/10\n",
            "157/157 [==============================] - 16s 100ms/step - loss: 1.6593e-04 - accuracy: 1.0000 - val_loss: 0.6405 - val_accuracy: 0.8690\n"
          ],
          "name": "stdout"
        }
      ]
    },
    {
      "cell_type": "code",
      "metadata": {
        "id": "Oai2aUhzj1ru",
        "colab": {
          "base_uri": "https://localhost:8080/",
          "height": 281
        },
        "outputId": "292c65fb-5438-4020-d756-f14e9f559b44"
      },
      "source": [
        "acc = history.history['accuracy']\n",
        "val_acc = history.history['val_accuracy']\n",
        "\n",
        "epochs = range(len(acc))\n",
        "plt.plot(epochs, acc, 'bo')\n",
        "plt.plot(epochs, val_acc, 'b')\n",
        "plt.title('Training and validation accuracy')\n",
        "\n",
        "plt.show()"
      ],
      "execution_count": null,
      "outputs": [
        {
          "output_type": "display_data",
          "data": {
            "image/png": "[encoded data removed]",
            "text/plain": [
              "<Figure size 432x288 with 1 Axes>"
            ]
          },
          "metadata": {
            "tags": [],
            "needs_background": "light"
          }
        }
      ]
    },
    {
      "cell_type": "markdown",
      "metadata": {
        "id": "ze17EMFCkr8J"
      },
      "source": [
        "##### Ejercicio\n",
        "A partir de las gráficas anteriores ¿qué problema tiene nuestro modelo?"
      ]
    },
    {
      "cell_type": "markdown",
      "metadata": {
        "id": "9DszxMXUAZsK"
      },
      "source": [
        "Que no se ajusta a los datos de entrenamiento"
      ]
    },
    {
      "cell_type": "markdown",
      "metadata": {
        "id": "vWpWs2Nckwzl"
      },
      "source": [
        "Respuesta: "
      ]
    },
    {
      "cell_type": "markdown",
      "metadata": {
        "id": "SIZkZl59k47Z"
      },
      "source": [
        "Para evitar el problema anterior, vamos a entrenar de nuevo nuestra red, pero sólo 2 épocas. "
      ]
    },
    {
      "cell_type": "code",
      "metadata": {
        "id": "x6FNEw_nkwRX",
        "colab": {
          "base_uri": "https://localhost:8080/"
        },
        "outputId": "71830864-0841-48a6-ffc6-9f10a22ae6d3"
      },
      "source": [
        "model2 = create_model()\n",
        "model2.fit(X_train,y_train,validation_data=(X_val,y_val),epochs=2,batch_size=128,verbose=1)"
      ],
      "execution_count": null,
      "outputs": [
        {
          "output_type": "stream",
          "text": [
            "Model: \"sequential_1\"\n",
            "_________________________________________________________________\n",
            "Layer (type)                 Output Shape              Param #   \n",
            "=================================================================\n",
            "embedding_1 (Embedding)      (None, 500, 32)           160000    \n",
            "_________________________________________________________________\n",
            "flatten_1 (Flatten)          (None, 16000)             0         \n",
            "_________________________________________________________________\n",
            "dense_2 (Dense)              (None, 250)               4000250   \n",
            "_________________________________________________________________\n",
            "dense_3 (Dense)              (None, 1)                 251       \n",
            "=================================================================\n",
            "Total params: 4,160,501\n",
            "Trainable params: 4,160,501\n",
            "Non-trainable params: 0\n",
            "_________________________________________________________________\n",
            "None\n",
            "Epoch 1/2\n",
            "157/157 [==============================] - 16s 102ms/step - loss: 0.6475 - accuracy: 0.5823 - val_loss: 0.3040 - val_accuracy: 0.8714\n",
            "Epoch 2/2\n",
            "157/157 [==============================] - 16s 100ms/step - loss: 0.1930 - accuracy: 0.9279 - val_loss: 0.3033 - val_accuracy: 0.8778\n"
          ],
          "name": "stdout"
        },
        {
          "output_type": "execute_result",
          "data": {
            "text/plain": [
              "<tensorflow.python.keras.callbacks.History at 0x7f28489ba610>"
            ]
          },
          "metadata": {
            "tags": []
          },
          "execution_count": 16
        }
      ]
    },
    {
      "cell_type": "markdown",
      "metadata": {
        "id": "A6GSdAl0lR3d"
      },
      "source": [
        "Por último, evaluamos nuestro modelo en el conjunto de test. "
      ]
    },
    {
      "cell_type": "code",
      "metadata": {
        "id": "mK6mqa7ilC-d",
        "colab": {
          "base_uri": "https://localhost:8080/"
        },
        "outputId": "1a6ed7f7-1ae2-4165-c32f-59f88c969a28"
      },
      "source": [
        "scores = model2.evaluate(X_test, y_test, verbose=0)\n",
        "print(\"Accuracy: %.2f%%\" % (scores[1]*100))"
      ],
      "execution_count": null,
      "outputs": [
        {
          "output_type": "stream",
          "text": [
            "Accuracy: 86.88%\n"
          ],
          "name": "stdout"
        }
      ]
    },
    {
      "cell_type": "markdown",
      "metadata": {
        "id": "ZC52vpEllnzr"
      },
      "source": [
        "Podemos también evaluar el modelo que tenía el problema y podemos ver que la accuracy es peor que la que hemos obtenido con el otro modelo, a pesar de haberlo entrenado por menos tiempo. "
      ]
    },
    {
      "cell_type": "code",
      "metadata": {
        "id": "bq1mZ62ilcyt",
        "colab": {
          "base_uri": "https://localhost:8080/"
        },
        "outputId": "f2664aba-85e4-422b-bf94-dab0de8bd771"
      },
      "source": [
        "scores = model1.evaluate(X_test, y_test, verbose=0)\n",
        "print(\"Accuracy: %.2f%%\" % (scores[1]*100))"
      ],
      "execution_count": null,
      "outputs": [
        {
          "output_type": "stream",
          "text": [
            "Accuracy: 86.48%\n"
          ],
          "name": "stdout"
        }
      ]
    },
    {
      "cell_type": "markdown",
      "metadata": {
        "id": "yjnMFte6l3KI"
      },
      "source": [
        "## Red neuronal convolucional de una dimensión\n",
        "\n",
        "Las redes neuronales convolucionales fueron creadas para tener en cuenta la estructura espacial de los datos en imágenes siendo robustas a cambios en la posición y orientación de los objetos. Este mismo principio se puede aplicar a secuencias como son las secuencias 1-dimensionales de palabras de una valoración de película.  Vamos a utilizar dicha propiedad en nuestro problema. \n",
        "\n",
        "Comenzamos cargando las librerías necesarias para trabajar con redes convolucionales 1-dimensionales. "
      ]
    },
    {
      "cell_type": "code",
      "metadata": {
        "id": "1ZOstGNRl0tt"
      },
      "source": [
        "from keras.models import Sequential\n",
        "from keras.layers import Dense\n",
        "from keras.layers import Flatten\n",
        "from keras.layers.convolutional import Convolution1D\n",
        "from keras.layers.convolutional import MaxPooling1D\n",
        "from keras.layers.embeddings import Embedding"
      ],
      "execution_count": null,
      "outputs": []
    },
    {
      "cell_type": "markdown",
      "metadata": {
        "id": "WlWLECjrmu7T"
      },
      "source": [
        "Definimos el modelo."
      ]
    },
    {
      "cell_type": "code",
      "metadata": {
        "id": "TQrHI4dBmswa",
        "colab": {
          "base_uri": "https://localhost:8080/"
        },
        "outputId": "6c0668c0-ceb1-4992-e38f-45baed836fbc"
      },
      "source": [
        "def create_cnn_model():\n",
        "  model = Sequential()\n",
        "  model.add(Embedding(top_words,32,input_length=max_words))\n",
        "  model.add(Convolution1D(filters=32,kernel_size=3,padding='same',activation='relu'))\n",
        "  model.add(MaxPooling1D(pool_size=2))\n",
        "  model.add(Flatten())\n",
        "  model.add(Dense(250,activation='relu'))\n",
        "  model.add(Dense(1,activation='sigmoid'))\n",
        "  model.compile(loss='binary_crossentropy',optimizer='adam',metrics=['accuracy'])\n",
        "  print(model.summary())\n",
        "  return model\n",
        "\n",
        "model3 = create_cnn_model()"
      ],
      "execution_count": null,
      "outputs": [
        {
          "output_type": "stream",
          "text": [
            "Model: \"sequential_2\"\n",
            "_________________________________________________________________\n",
            "Layer (type)                 Output Shape              Param #   \n",
            "=================================================================\n",
            "embedding_2 (Embedding)      (None, 500, 32)           160000    \n",
            "_________________________________________________________________\n",
            "conv1d (Conv1D)              (None, 500, 32)           3104      \n",
            "_________________________________________________________________\n",
            "max_pooling1d (MaxPooling1D) (None, 250, 32)           0         \n",
            "_________________________________________________________________\n",
            "flatten_2 (Flatten)          (None, 8000)              0         \n",
            "_________________________________________________________________\n",
            "dense_4 (Dense)              (None, 250)               2000250   \n",
            "_________________________________________________________________\n",
            "dense_5 (Dense)              (None, 1)                 251       \n",
            "=================================================================\n",
            "Total params: 2,163,605\n",
            "Trainable params: 2,163,605\n",
            "Non-trainable params: 0\n",
            "_________________________________________________________________\n",
            "None\n"
          ],
          "name": "stdout"
        }
      ]
    },
    {
      "cell_type": "markdown",
      "metadata": {
        "id": "6afTi6sNnPNy"
      },
      "source": [
        "Entrenamos este nuevo modelo. "
      ]
    },
    {
      "cell_type": "code",
      "metadata": {
        "id": "IRzY8kF4nLym",
        "colab": {
          "base_uri": "https://localhost:8080/"
        },
        "outputId": "bb01589e-24fe-474b-863e-79ecf993b59b"
      },
      "source": [
        "model3.fit(X_train,y_train,validation_data=(X_val,y_val),epochs=2,batch_size=128,verbose=1)"
      ],
      "execution_count": null,
      "outputs": [
        {
          "output_type": "stream",
          "text": [
            "Epoch 1/2\n",
            "157/157 [==============================] - 18s 112ms/step - loss: 0.6384 - accuracy: 0.5884 - val_loss: 0.2823 - val_accuracy: 0.8906\n",
            "Epoch 2/2\n",
            "157/157 [==============================] - 17s 110ms/step - loss: 0.2273 - accuracy: 0.9102 - val_loss: 0.2640 - val_accuracy: 0.8926\n"
          ],
          "name": "stdout"
        },
        {
          "output_type": "execute_result",
          "data": {
            "text/plain": [
              "<tensorflow.python.keras.callbacks.History at 0x7f2847323350>"
            ]
          },
          "metadata": {
            "tags": []
          },
          "execution_count": 21
        }
      ]
    },
    {
      "cell_type": "markdown",
      "metadata": {
        "id": "kHSZVP6_nWYF"
      },
      "source": [
        "Y evaluamos su precisión. "
      ]
    },
    {
      "cell_type": "code",
      "metadata": {
        "id": "GwzB0dVqnUXu",
        "colab": {
          "base_uri": "https://localhost:8080/"
        },
        "outputId": "6d4753f7-e0a2-473f-caac-3e892952f039"
      },
      "source": [
        "scores = model3.evaluate(X_test, y_test, verbose=0)\n",
        "print(\"Accuracy: %.2f%%\" % (scores[1]*100))"
      ],
      "execution_count": null,
      "outputs": [
        {
          "output_type": "stream",
          "text": [
            "Accuracy: 88.32%\n"
          ],
          "name": "stdout"
        }
      ]
    },
    {
      "cell_type": "markdown",
      "metadata": {
        "id": "fsbGqqqyndQ2"
      },
      "source": [
        "Como podemos ver, este modelo mejora los resultados obtenidos con el modelo anterior. "
      ]
    },
    {
      "cell_type": "markdown",
      "metadata": {
        "id": "8mDQSJRQnrQs"
      },
      "source": [
        "## LSTM\n",
        "\n",
        "Vamos a crear ahora una pequeña red LSTM. Como en casos anteriores comenzamos cargando las librerías necesarias. "
      ]
    },
    {
      "cell_type": "code",
      "metadata": {
        "id": "_aWkJRNRnbCu"
      },
      "source": [
        "from keras.layers import LSTM"
      ],
      "execution_count": null,
      "outputs": []
    },
    {
      "cell_type": "markdown",
      "metadata": {
        "id": "jR1BM2Z2n2vx"
      },
      "source": [
        "Definimos el modelo. "
      ]
    },
    {
      "cell_type": "code",
      "metadata": {
        "id": "xrX9oAPKn1XD",
        "colab": {
          "base_uri": "https://localhost:8080/"
        },
        "outputId": "cdddc690-1979-4f3a-dc8c-ac5d04597362"
      },
      "source": [
        "def create_lstm_model():\n",
        "  model = Sequential()\n",
        "  model.add(Embedding(top_words,32,input_length=max_words))\n",
        "  model.add(LSTM(100))\n",
        "  model.add(Dense(1,activation='sigmoid'))\n",
        "  model.compile(loss='binary_crossentropy',optimizer='adam',metrics=['accuracy'])\n",
        "  print(model.summary())\n",
        "  return model\n",
        "\n",
        "model4 = create_lstm_model()"
      ],
      "execution_count": null,
      "outputs": [
        {
          "output_type": "stream",
          "text": [
            "Model: \"sequential_3\"\n",
            "_________________________________________________________________\n",
            "Layer (type)                 Output Shape              Param #   \n",
            "=================================================================\n",
            "embedding_3 (Embedding)      (None, 500, 32)           160000    \n",
            "_________________________________________________________________\n",
            "lstm (LSTM)                  (None, 100)               53200     \n",
            "_________________________________________________________________\n",
            "dense_6 (Dense)              (None, 1)                 101       \n",
            "=================================================================\n",
            "Total params: 213,301\n",
            "Trainable params: 213,301\n",
            "Non-trainable params: 0\n",
            "_________________________________________________________________\n",
            "None\n"
          ],
          "name": "stdout"
        }
      ]
    },
    {
      "cell_type": "markdown",
      "metadata": {
        "id": "3rSULKl_oOQG"
      },
      "source": [
        "Entrenamos el modelo. "
      ]
    },
    {
      "cell_type": "code",
      "metadata": {
        "id": "EfXNhtt7oIAe",
        "colab": {
          "base_uri": "https://localhost:8080/"
        },
        "outputId": "c3f3458d-46c9-4fc7-d052-bb6a6b425ef3"
      },
      "source": [
        "model4.fit(X_train,y_train,validation_data=(X_val,y_val),epochs=2,batch_size=128,verbose=1)"
      ],
      "execution_count": null,
      "outputs": [
        {
          "output_type": "stream",
          "text": [
            "Epoch 1/2\n",
            "157/157 [==============================] - 160s 1s/step - loss: 0.6531 - accuracy: 0.5935 - val_loss: 0.4141 - val_accuracy: 0.8170\n",
            "Epoch 2/2\n",
            "157/157 [==============================] - 157s 1s/step - loss: 0.3209 - accuracy: 0.8669 - val_loss: 0.3222 - val_accuracy: 0.8672\n"
          ],
          "name": "stdout"
        },
        {
          "output_type": "execute_result",
          "data": {
            "text/plain": [
              "<tensorflow.python.keras.callbacks.History at 0x7f2842f9cd10>"
            ]
          },
          "metadata": {
            "tags": []
          },
          "execution_count": 25
        }
      ]
    },
    {
      "cell_type": "markdown",
      "metadata": {
        "id": "LZ5frttYobKh"
      },
      "source": [
        "Y por último lo evaluamos contra el conjunto de test. "
      ]
    },
    {
      "cell_type": "code",
      "metadata": {
        "id": "wTLDWgMgoac3",
        "colab": {
          "base_uri": "https://localhost:8080/"
        },
        "outputId": "ebb7892e-ac37-4e71-8d44-da9f9f1fa308"
      },
      "source": [
        "scores = model4.evaluate(X_test, y_test, verbose=0)\n",
        "print(\"Accuracy: %.2f%%\" % (scores[1]*100))"
      ],
      "execution_count": null,
      "outputs": [
        {
          "output_type": "stream",
          "text": [
            "Accuracy: 86.74%\n"
          ],
          "name": "stdout"
        }
      ]
    },
    {
      "cell_type": "markdown",
      "metadata": {
        "id": "T8bqux5Xppmv"
      },
      "source": [
        "## LSTM con Dropout\n",
        "\n",
        "Uno de los problemas que tienen todas las redes que hemos definido hasta ahora es que tienden a sobreajustarse muy rápido. Para evitar dicho problema se puede utilizar la técnica de Dropout. \n",
        "\n",
        "Para ello definimos el siguiente modelo. \n"
      ]
    },
    {
      "cell_type": "code",
      "metadata": {
        "id": "lTen2yrTH2-7"
      },
      "source": [
        "from keras.layers import Dropout"
      ],
      "execution_count": null,
      "outputs": []
    },
    {
      "cell_type": "code",
      "metadata": {
        "id": "wGsBXaOqohAA",
        "colab": {
          "base_uri": "https://localhost:8080/"
        },
        "outputId": "8b99dc97-442c-410d-9e17-2479ff644d37"
      },
      "source": [
        "def create_lstm_dropout_model():\n",
        "  model = Sequential()\n",
        "  model.add(Embedding(top_words,32,input_length=max_words))\n",
        "  model.add(Dropout(0.2))\n",
        "  model.add(LSTM(100,dropout=0.2,recurrent_dropout=0.2))\n",
        "  model.add(Dense(1,activation='sigmoid'))\n",
        "  model.compile(loss='binary_crossentropy',optimizer='adam',metrics=['accuracy'])\n",
        "  print(model.summary())\n",
        "  return model\n",
        "\n",
        "model5 = create_lstm_dropout_model()"
      ],
      "execution_count": null,
      "outputs": [
        {
          "output_type": "stream",
          "text": [
            "Model: \"sequential_4\"\n",
            "_________________________________________________________________\n",
            "Layer (type)                 Output Shape              Param #   \n",
            "=================================================================\n",
            "embedding_4 (Embedding)      (None, 500, 32)           160000    \n",
            "_________________________________________________________________\n",
            "dropout (Dropout)            (None, 500, 32)           0         \n",
            "_________________________________________________________________\n",
            "lstm_1 (LSTM)                (None, 100)               53200     \n",
            "_________________________________________________________________\n",
            "dense_7 (Dense)              (None, 1)                 101       \n",
            "=================================================================\n",
            "Total params: 213,301\n",
            "Trainable params: 213,301\n",
            "Non-trainable params: 0\n",
            "_________________________________________________________________\n",
            "None\n"
          ],
          "name": "stdout"
        }
      ]
    },
    {
      "cell_type": "markdown",
      "metadata": {
        "id": "dUkSHypcqWSA"
      },
      "source": [
        "##### Ejercicio\n",
        "\n",
        "¿Por cuántas épocas puedes entrenar el nuevo modelo hasta que aparece el sobreajuste?"
      ]
    },
    {
      "cell_type": "markdown",
      "metadata": {
        "id": "SO9pv_Z3xINM"
      },
      "source": [
        "1 épocas"
      ]
    },
    {
      "cell_type": "code",
      "metadata": {
        "id": "p5A8Z6yKqNgz",
        "colab": {
          "base_uri": "https://localhost:8080/",
          "height": 281
        },
        "outputId": "c80af95d-0deb-4bcb-fc6d-3803f5665fc4"
      },
      "source": [
        "acc = history.history['accuracy']\n",
        "val_acc = history.history['val_accuracy']\n",
        "\n",
        "epochs = range(len(acc))\n",
        "plt.plot(epochs, acc, 'bo')\n",
        "plt.plot(epochs, val_acc, 'b')\n",
        "plt.title('Training and validation accuracy')\n",
        "\n",
        "plt.show()"
      ],
      "execution_count": null,
      "outputs": [
        {
          "output_type": "display_data",
          "data": {
            "image/png": "[encoded data removed]",
            "text/plain": [
              "<Figure size 432x288 with 1 Axes>"
            ]
          },
          "metadata": {
            "tags": [],
            "needs_background": "light"
          }
        }
      ]
    },
    {
      "cell_type": "code",
      "metadata": {
        "id": "me8f6oPeq19p",
        "colab": {
          "base_uri": "https://localhost:8080/",
          "height": 414
        },
        "outputId": "7a11b7de-b8fc-44b0-be41-7c59dd939c21"
      },
      "source": [
        "history = model5.fit(X_train,y_train,validation_data=(X_val,y_val),epochs=10,batch_size=128,verbose=1)\n",
        "acc = history.history['accuracy']\n",
        "val_acc = history.history['val_accuracy']\n",
        "\n",
        "epochs = range(len(acc))\n",
        "plt.plot(epochs, acc, 'bo')\n",
        "plt.plot(epochs, val_acc, 'b')\n",
        "plt.title('Training and validation accuracy')\n",
        "\n",
        "plt.show()"
      ],
      "execution_count": null,
      "outputs": [
        {
          "output_type": "stream",
          "text": [
            "Epoch 1/10\n",
            "  9/157 [>.............................] - ETA: 3:46 - loss: 0.6473 - accuracy: 0.7240"
          ],
          "name": "stdout"
        },
        {
          "output_type": "error",
          "ename": "KeyboardInterrupt",
          "evalue": "ignored",
          "traceback": [
            "\u001b[0;31m---------------------------------------------------------------------------\u001b[0m",
            "\u001b[0;31mKeyboardInterrupt\u001b[0m                         Traceback (most recent call last)",
            "\u001b[0;32m<ipython-input-31-ffb6fcb02216>\u001b[0m in \u001b[0;36m<module>\u001b[0;34m()\u001b[0m\n\u001b[0;32m----> 1\u001b[0;31m \u001b[0mhistory\u001b[0m \u001b[0;34m=\u001b[0m \u001b[0mmodel5\u001b[0m\u001b[0;34m.\u001b[0m\u001b[0mfit\u001b[0m\u001b[0;34m(\u001b[0m\u001b[0mX_train\u001b[0m\u001b[0;34m,\u001b[0m\u001b[0my_train\u001b[0m\u001b[0;34m,\u001b[0m\u001b[0mvalidation_data\u001b[0m\u001b[0;34m=\u001b[0m\u001b[0;34m(\u001b[0m\u001b[0mX_val\u001b[0m\u001b[0;34m,\u001b[0m\u001b[0my_val\u001b[0m\u001b[0;34m)\u001b[0m\u001b[0;34m,\u001b[0m\u001b[0mepochs\u001b[0m\u001b[0;34m=\u001b[0m\u001b[0;36m10\u001b[0m\u001b[0;34m,\u001b[0m\u001b[0mbatch_size\u001b[0m\u001b[0;34m=\u001b[0m\u001b[0;36m128\u001b[0m\u001b[0;34m,\u001b[0m\u001b[0mverbose\u001b[0m\u001b[0;34m=\u001b[0m\u001b[0;36m1\u001b[0m\u001b[0;34m)\u001b[0m\u001b[0;34m\u001b[0m\u001b[0;34m\u001b[0m\u001b[0m\n\u001b[0m\u001b[1;32m      2\u001b[0m \u001b[0macc\u001b[0m \u001b[0;34m=\u001b[0m \u001b[0mhistory\u001b[0m\u001b[0;34m.\u001b[0m\u001b[0mhistory\u001b[0m\u001b[0;34m[\u001b[0m\u001b[0;34m'accuracy'\u001b[0m\u001b[0;34m]\u001b[0m\u001b[0;34m\u001b[0m\u001b[0;34m\u001b[0m\u001b[0m\n\u001b[1;32m      3\u001b[0m \u001b[0mval_acc\u001b[0m \u001b[0;34m=\u001b[0m \u001b[0mhistory\u001b[0m\u001b[0;34m.\u001b[0m\u001b[0mhistory\u001b[0m\u001b[0;34m[\u001b[0m\u001b[0;34m'val_accuracy'\u001b[0m\u001b[0;34m]\u001b[0m\u001b[0;34m\u001b[0m\u001b[0;34m\u001b[0m\u001b[0m\n\u001b[1;32m      4\u001b[0m \u001b[0;34m\u001b[0m\u001b[0m\n\u001b[1;32m      5\u001b[0m \u001b[0mepochs\u001b[0m \u001b[0;34m=\u001b[0m \u001b[0mrange\u001b[0m\u001b[0;34m(\u001b[0m\u001b[0mlen\u001b[0m\u001b[0;34m(\u001b[0m\u001b[0macc\u001b[0m\u001b[0;34m)\u001b[0m\u001b[0;34m)\u001b[0m\u001b[0;34m\u001b[0m\u001b[0;34m\u001b[0m\u001b[0m\n",
            "\u001b[0;32m/usr/local/lib/python3.7/dist-packages/tensorflow/python/keras/engine/training.py\u001b[0m in \u001b[0;36mfit\u001b[0;34m(self, x, y, batch_size, epochs, verbose, callbacks, validation_split, validation_data, shuffle, class_weight, sample_weight, initial_epoch, steps_per_epoch, validation_steps, validation_batch_size, validation_freq, max_queue_size, workers, use_multiprocessing)\u001b[0m\n\u001b[1;32m   1098\u001b[0m                 _r=1):\n\u001b[1;32m   1099\u001b[0m               \u001b[0mcallbacks\u001b[0m\u001b[0;34m.\u001b[0m\u001b[0mon_train_batch_begin\u001b[0m\u001b[0;34m(\u001b[0m\u001b[0mstep\u001b[0m\u001b[0;34m)\u001b[0m\u001b[0;34m\u001b[0m\u001b[0;34m\u001b[0m\u001b[0m\n\u001b[0;32m-> 1100\u001b[0;31m               \u001b[0mtmp_logs\u001b[0m \u001b[0;34m=\u001b[0m \u001b[0mself\u001b[0m\u001b[0;34m.\u001b[0m\u001b[0mtrain_function\u001b[0m\u001b[0;34m(\u001b[0m\u001b[0miterator\u001b[0m\u001b[0;34m)\u001b[0m\u001b[0;34m\u001b[0m\u001b[0;34m\u001b[0m\u001b[0m\n\u001b[0m\u001b[1;32m   1101\u001b[0m               \u001b[0;32mif\u001b[0m \u001b[0mdata_handler\u001b[0m\u001b[0;34m.\u001b[0m\u001b[0mshould_sync\u001b[0m\u001b[0;34m:\u001b[0m\u001b[0;34m\u001b[0m\u001b[0;34m\u001b[0m\u001b[0m\n\u001b[1;32m   1102\u001b[0m                 \u001b[0mcontext\u001b[0m\u001b[0;34m.\u001b[0m\u001b[0masync_wait\u001b[0m\u001b[0;34m(\u001b[0m\u001b[0;34m)\u001b[0m\u001b[0;34m\u001b[0m\u001b[0;34m\u001b[0m\u001b[0m\n",
            "\u001b[0;32m/usr/local/lib/python3.7/dist-packages/tensorflow/python/eager/def_function.py\u001b[0m in \u001b[0;36m__call__\u001b[0;34m(self, *args, **kwds)\u001b[0m\n\u001b[1;32m    826\u001b[0m     \u001b[0mtracing_count\u001b[0m \u001b[0;34m=\u001b[0m \u001b[0mself\u001b[0m\u001b[0;34m.\u001b[0m\u001b[0mexperimental_get_tracing_count\u001b[0m\u001b[0;34m(\u001b[0m\u001b[0;34m)\u001b[0m\u001b[0;34m\u001b[0m\u001b[0;34m\u001b[0m\u001b[0m\n\u001b[1;32m    827\u001b[0m     \u001b[0;32mwith\u001b[0m \u001b[0mtrace\u001b[0m\u001b[0;34m.\u001b[0m\u001b[0mTrace\u001b[0m\u001b[0;34m(\u001b[0m\u001b[0mself\u001b[0m\u001b[0;34m.\u001b[0m\u001b[0m_name\u001b[0m\u001b[0;34m)\u001b[0m \u001b[0;32mas\u001b[0m \u001b[0mtm\u001b[0m\u001b[0;34m:\u001b[0m\u001b[0;34m\u001b[0m\u001b[0;34m\u001b[0m\u001b[0m\n\u001b[0;32m--> 828\u001b[0;31m       \u001b[0mresult\u001b[0m \u001b[0;34m=\u001b[0m \u001b[0mself\u001b[0m\u001b[0;34m.\u001b[0m\u001b[0m_call\u001b[0m\u001b[0;34m(\u001b[0m\u001b[0;34m*\u001b[0m\u001b[0margs\u001b[0m\u001b[0;34m,\u001b[0m \u001b[0;34m**\u001b[0m\u001b[0mkwds\u001b[0m\u001b[0;34m)\u001b[0m\u001b[0;34m\u001b[0m\u001b[0;34m\u001b[0m\u001b[0m\n\u001b[0m\u001b[1;32m    829\u001b[0m       \u001b[0mcompiler\u001b[0m \u001b[0;34m=\u001b[0m \u001b[0;34m\"xla\"\u001b[0m \u001b[0;32mif\u001b[0m \u001b[0mself\u001b[0m\u001b[0;34m.\u001b[0m\u001b[0m_experimental_compile\u001b[0m \u001b[0;32melse\u001b[0m \u001b[0;34m\"nonXla\"\u001b[0m\u001b[0;34m\u001b[0m\u001b[0;34m\u001b[0m\u001b[0m\n\u001b[1;32m    830\u001b[0m       \u001b[0mnew_tracing_count\u001b[0m \u001b[0;34m=\u001b[0m \u001b[0mself\u001b[0m\u001b[0;34m.\u001b[0m\u001b[0mexperimental_get_tracing_count\u001b[0m\u001b[0;34m(\u001b[0m\u001b[0;34m)\u001b[0m\u001b[0;34m\u001b[0m\u001b[0;34m\u001b[0m\u001b[0m\n",
            "\u001b[0;32m/usr/local/lib/python3.7/dist-packages/tensorflow/python/eager/def_function.py\u001b[0m in \u001b[0;36m_call\u001b[0;34m(self, *args, **kwds)\u001b[0m\n\u001b[1;32m    853\u001b[0m       \u001b[0;31m# In this case we have created variables on the first call, so we run the\u001b[0m\u001b[0;34m\u001b[0m\u001b[0;34m\u001b[0m\u001b[0;34m\u001b[0m\u001b[0m\n\u001b[1;32m    854\u001b[0m       \u001b[0;31m# defunned version which is guaranteed to never create variables.\u001b[0m\u001b[0;34m\u001b[0m\u001b[0;34m\u001b[0m\u001b[0;34m\u001b[0m\u001b[0m\n\u001b[0;32m--> 855\u001b[0;31m       \u001b[0;32mreturn\u001b[0m \u001b[0mself\u001b[0m\u001b[0;34m.\u001b[0m\u001b[0m_stateless_fn\u001b[0m\u001b[0;34m(\u001b[0m\u001b[0;34m*\u001b[0m\u001b[0margs\u001b[0m\u001b[0;34m,\u001b[0m \u001b[0;34m**\u001b[0m\u001b[0mkwds\u001b[0m\u001b[0;34m)\u001b[0m  \u001b[0;31m# pylint: disable=not-callable\u001b[0m\u001b[0;34m\u001b[0m\u001b[0;34m\u001b[0m\u001b[0m\n\u001b[0m\u001b[1;32m    856\u001b[0m     \u001b[0;32melif\u001b[0m \u001b[0mself\u001b[0m\u001b[0;34m.\u001b[0m\u001b[0m_stateful_fn\u001b[0m \u001b[0;32mis\u001b[0m \u001b[0;32mnot\u001b[0m \u001b[0;32mNone\u001b[0m\u001b[0;34m:\u001b[0m\u001b[0;34m\u001b[0m\u001b[0;34m\u001b[0m\u001b[0m\n\u001b[1;32m    857\u001b[0m       \u001b[0;31m# Release the lock early so that multiple threads can perform the call\u001b[0m\u001b[0;34m\u001b[0m\u001b[0;34m\u001b[0m\u001b[0;34m\u001b[0m\u001b[0m\n",
            "\u001b[0;32m/usr/local/lib/python3.7/dist-packages/tensorflow/python/eager/function.py\u001b[0m in \u001b[0;36m__call__\u001b[0;34m(self, *args, **kwargs)\u001b[0m\n\u001b[1;32m   2941\u001b[0m        filtered_flat_args) = self._maybe_define_function(args, kwargs)\n\u001b[1;32m   2942\u001b[0m     return graph_function._call_flat(\n\u001b[0;32m-> 2943\u001b[0;31m         filtered_flat_args, captured_inputs=graph_function.captured_inputs)  # pylint: disable=protected-access\n\u001b[0m\u001b[1;32m   2944\u001b[0m \u001b[0;34m\u001b[0m\u001b[0m\n\u001b[1;32m   2945\u001b[0m   \u001b[0;34m@\u001b[0m\u001b[0mproperty\u001b[0m\u001b[0;34m\u001b[0m\u001b[0;34m\u001b[0m\u001b[0m\n",
            "\u001b[0;32m/usr/local/lib/python3.7/dist-packages/tensorflow/python/eager/function.py\u001b[0m in \u001b[0;36m_call_flat\u001b[0;34m(self, args, captured_inputs, cancellation_manager)\u001b[0m\n\u001b[1;32m   1917\u001b[0m       \u001b[0;31m# No tape is watching; skip to running the function.\u001b[0m\u001b[0;34m\u001b[0m\u001b[0;34m\u001b[0m\u001b[0;34m\u001b[0m\u001b[0m\n\u001b[1;32m   1918\u001b[0m       return self._build_call_outputs(self._inference_function.call(\n\u001b[0;32m-> 1919\u001b[0;31m           ctx, args, cancellation_manager=cancellation_manager))\n\u001b[0m\u001b[1;32m   1920\u001b[0m     forward_backward = self._select_forward_and_backward_functions(\n\u001b[1;32m   1921\u001b[0m         \u001b[0margs\u001b[0m\u001b[0;34m,\u001b[0m\u001b[0;34m\u001b[0m\u001b[0;34m\u001b[0m\u001b[0m\n",
            "\u001b[0;32m/usr/local/lib/python3.7/dist-packages/tensorflow/python/eager/function.py\u001b[0m in \u001b[0;36mcall\u001b[0;34m(self, ctx, args, cancellation_manager)\u001b[0m\n\u001b[1;32m    558\u001b[0m               \u001b[0minputs\u001b[0m\u001b[0;34m=\u001b[0m\u001b[0margs\u001b[0m\u001b[0;34m,\u001b[0m\u001b[0;34m\u001b[0m\u001b[0;34m\u001b[0m\u001b[0m\n\u001b[1;32m    559\u001b[0m               \u001b[0mattrs\u001b[0m\u001b[0;34m=\u001b[0m\u001b[0mattrs\u001b[0m\u001b[0;34m,\u001b[0m\u001b[0;34m\u001b[0m\u001b[0;34m\u001b[0m\u001b[0m\n\u001b[0;32m--> 560\u001b[0;31m               ctx=ctx)\n\u001b[0m\u001b[1;32m    561\u001b[0m         \u001b[0;32melse\u001b[0m\u001b[0;34m:\u001b[0m\u001b[0;34m\u001b[0m\u001b[0;34m\u001b[0m\u001b[0m\n\u001b[1;32m    562\u001b[0m           outputs = execute.execute_with_cancellation(\n",
            "\u001b[0;32m/usr/local/lib/python3.7/dist-packages/tensorflow/python/eager/execute.py\u001b[0m in \u001b[0;36mquick_execute\u001b[0;34m(op_name, num_outputs, inputs, attrs, ctx, name)\u001b[0m\n\u001b[1;32m     58\u001b[0m     \u001b[0mctx\u001b[0m\u001b[0;34m.\u001b[0m\u001b[0mensure_initialized\u001b[0m\u001b[0;34m(\u001b[0m\u001b[0;34m)\u001b[0m\u001b[0;34m\u001b[0m\u001b[0;34m\u001b[0m\u001b[0m\n\u001b[1;32m     59\u001b[0m     tensors = pywrap_tfe.TFE_Py_Execute(ctx._handle, device_name, op_name,\n\u001b[0;32m---> 60\u001b[0;31m                                         inputs, attrs, num_outputs)\n\u001b[0m\u001b[1;32m     61\u001b[0m   \u001b[0;32mexcept\u001b[0m \u001b[0mcore\u001b[0m\u001b[0;34m.\u001b[0m\u001b[0m_NotOkStatusException\u001b[0m \u001b[0;32mas\u001b[0m \u001b[0me\u001b[0m\u001b[0;34m:\u001b[0m\u001b[0;34m\u001b[0m\u001b[0;34m\u001b[0m\u001b[0m\n\u001b[1;32m     62\u001b[0m     \u001b[0;32mif\u001b[0m \u001b[0mname\u001b[0m \u001b[0;32mis\u001b[0m \u001b[0;32mnot\u001b[0m \u001b[0;32mNone\u001b[0m\u001b[0;34m:\u001b[0m\u001b[0;34m\u001b[0m\u001b[0;34m\u001b[0m\u001b[0m\n",
            "\u001b[0;31mKeyboardInterrupt\u001b[0m: "
          ]
        }
      ]
    },
    {
      "cell_type": "markdown",
      "metadata": {
        "id": "nlEqq67oxBrE"
      },
      "source": [
        "La he parado porque consume demasiado tiempos"
      ]
    },
    {
      "cell_type": "markdown",
      "metadata": {
        "id": "lQIuOOWXqxby"
      },
      "source": [
        "##### Ejercicio\n",
        "¿Qué accuracy consigues obtener con este nuevo modelo?"
      ]
    },
    {
      "cell_type": "markdown",
      "metadata": {
        "id": "zy1smq3RJq3Q"
      },
      "source": [
        "0.88"
      ]
    },
    {
      "cell_type": "markdown",
      "metadata": {
        "id": "RtNaqjrGq99k"
      },
      "source": [
        "## Predicciones propias\n",
        "\n",
        "Una vez construido nuestro modelo nos interesa probarlo con nuestras propias valoraciones. Para ello debemos convertir la frase a un formato que pueda alimentar a la red como se muestra a continuación. "
      ]
    },
    {
      "cell_type": "code",
      "metadata": {
        "id": "cDDVBruxrNa9"
      },
      "source": [
        "review = \"i generally love this type of movie however this time i found myself wanting to kick the screen since i can't do that i will just complain about it this was absolutely awful\"\n",
        "review = review.split(\" \")\n",
        "review = [word_index[w] for w in review]\n",
        "review = sequence.pad_sequences([review], maxlen=max_words)"
      ],
      "execution_count": null,
      "outputs": []
    },
    {
      "cell_type": "markdown",
      "metadata": {
        "id": "BhooNGoUsHvN"
      },
      "source": [
        "Y hacer la predicción con uno de nuestros modelos. "
      ]
    },
    {
      "cell_type": "code",
      "metadata": {
        "id": "6E2_-XncrVHO",
        "colab": {
          "base_uri": "https://localhost:8080/"
        },
        "outputId": "97432d73-06f0-441c-d1d5-6d4fa2d6cff0"
      },
      "source": [
        "a=model4.predict(review)\n",
        "if a<=0.5:\n",
        "  print('negative review')\n",
        "if a>0.5:\n",
        "   print('positive review')"
      ],
      "execution_count": null,
      "outputs": [
        {
          "output_type": "stream",
          "text": [
            "negative review\n"
          ],
          "name": "stdout"
        }
      ]
    },
    {
      "cell_type": "markdown",
      "metadata": {
        "id": "BzXx3K-_tJcM"
      },
      "source": [
        "## Ejercicio obligatorio\n",
        "\n",
        "El problema que hemos visto es un problema de clasificación binaria, existe otro dataset, [Reuters](https://keras.io/api/datasets/reuters/), para la clasificación multiclase (dicho dataset está disponible en [Keras](https://keras.io/datasets/#reuters-newswire-topics-classification)). El ejercicio consite en entrenar un modelo (utilizando las mismas ideas presentadas en este notebook) para dicho problema. Ten en cuenta que con dicho dataset no podrás utilizar como función de pérdida ``binary_crossentropy`` (preparada para problemas binarios) sino que deberás usar la función de pérdida ``categorical_crossentropy``. Añade a continuación todas las celdas que necesites. "
      ]
    },
    {
      "cell_type": "code",
      "metadata": {
        "colab": {
          "base_uri": "https://localhost:8080/"
        },
        "id": "-F1tUNMuyC-Y",
        "outputId": "a22f53cf-c8ad-4932-b755-2177fe56f320"
      },
      "source": [
        "#descargo librerias\n",
        "!pip install -q keras   \n",
        "import keras\n",
        "#preparo el dataset , tomo 1500 palabras para hacerlo rápido\n",
        "from keras.datasets import reuters\n",
        "(train_data, train_labels), (test_data, test_labels) = reuters.load_data(\n",
        "    path=\"reuters.npz\",\n",
        "    num_words=1500,\n",
        "    skip_top=0,\n",
        "    maxlen=None,\n",
        "    test_split=0.2,\n",
        "    seed=113,\n",
        "    start_char=1,\n",
        "    oov_char=2,\n",
        "    index_from=3\n",
        ")"
      ],
      "execution_count": null,
      "outputs": [
        {
          "output_type": "stream",
          "text": [
            "/usr/local/lib/python3.7/dist-packages/tensorflow/python/keras/datasets/reuters.py:148: VisibleDeprecationWarning: Creating an ndarray from ragged nested sequences (which is a list-or-tuple of lists-or-tuples-or ndarrays with different lengths or shapes) is deprecated. If you meant to do this, you must specify 'dtype=object' when creating the ndarray\n",
            "  x_train, y_train = np.array(xs[:idx]), np.array(labels[:idx])\n",
            "/usr/local/lib/python3.7/dist-packages/tensorflow/python/keras/datasets/reuters.py:149: VisibleDeprecationWarning: Creating an ndarray from ragged nested sequences (which is a list-or-tuple of lists-or-tuples-or ndarrays with different lengths or shapes) is deprecated. If you meant to do this, you must specify 'dtype=object' when creating the ndarray\n",
            "  x_test, y_test = np.array(xs[idx:]), np.array(labels[idx:])\n"
          ],
          "name": "stderr"
        }
      ]
    },
    {
      "cell_type": "markdown",
      "metadata": {
        "id": "uHdui170y09C"
      },
      "source": [
        "Los datos son un conjunto de enteros que representan palabras\n"
      ]
    },
    {
      "cell_type": "code",
      "metadata": {
        "colab": {
          "base_uri": "https://localhost:8080/"
        },
        "id": "bwJUHYwwy-Hl",
        "outputId": "09fb8473-77c9-4c19-dc63-d4cfc1774e94"
      },
      "source": [
        "train_data[5]"
      ],
      "execution_count": null,
      "outputs": [
        {
          "output_type": "execute_result",
          "data": {
            "text/plain": [
              "[1,\n",
              " 4,\n",
              " 37,\n",
              " 38,\n",
              " 309,\n",
              " 213,\n",
              " 349,\n",
              " 2,\n",
              " 48,\n",
              " 193,\n",
              " 229,\n",
              " 463,\n",
              " 28,\n",
              " 156,\n",
              " 635,\n",
              " 11,\n",
              " 82,\n",
              " 14,\n",
              " 156,\n",
              " 635,\n",
              " 11,\n",
              " 82,\n",
              " 54,\n",
              " 139,\n",
              " 16,\n",
              " 349,\n",
              " 105,\n",
              " 462,\n",
              " 311,\n",
              " 28,\n",
              " 296,\n",
              " 147,\n",
              " 11,\n",
              " 82,\n",
              " 14,\n",
              " 296,\n",
              " 147,\n",
              " 11,\n",
              " 54,\n",
              " 139,\n",
              " 342,\n",
              " 48,\n",
              " 193,\n",
              " 2,\n",
              " 361,\n",
              " 122,\n",
              " 23,\n",
              " 1332,\n",
              " 28,\n",
              " 318,\n",
              " 942,\n",
              " 11,\n",
              " 82,\n",
              " 14,\n",
              " 318,\n",
              " 942,\n",
              " 11,\n",
              " 82,\n",
              " 54,\n",
              " 139,\n",
              " 122,\n",
              " 7,\n",
              " 105,\n",
              " 462,\n",
              " 23,\n",
              " 349,\n",
              " 28,\n",
              " 296,\n",
              " 767,\n",
              " 11,\n",
              " 82,\n",
              " 14,\n",
              " 296,\n",
              " 767,\n",
              " 11,\n",
              " 54,\n",
              " 139,\n",
              " 342,\n",
              " 229,\n",
              " 162,\n",
              " 7,\n",
              " 48,\n",
              " 193,\n",
              " 55,\n",
              " 408,\n",
              " 28,\n",
              " 258,\n",
              " 557,\n",
              " 11,\n",
              " 82,\n",
              " 14,\n",
              " 196,\n",
              " 557,\n",
              " 11,\n",
              " 82,\n",
              " 54,\n",
              " 139,\n",
              " 162,\n",
              " 7,\n",
              " 105,\n",
              " 462,\n",
              " 55,\n",
              " 349,\n",
              " 28,\n",
              " 191,\n",
              " 968,\n",
              " 11,\n",
              " 82,\n",
              " 14,\n",
              " 191,\n",
              " 785,\n",
              " 11,\n",
              " 54,\n",
              " 139,\n",
              " 17,\n",
              " 12]"
            ]
          },
          "metadata": {
            "tags": []
          },
          "execution_count": 36
        }
      ]
    },
    {
      "cell_type": "code",
      "metadata": {
        "colab": {
          "base_uri": "https://localhost:8080/",
          "height": 69
        },
        "id": "rvqmA7zyzaLh",
        "outputId": "f47d6042-0447-4acf-f6d8-0e023a0b8ca6"
      },
      "source": [
        "#Aquí se puede apreciar como obtener ls palabras desde los enteros\n",
        "word_index = reuters.get_word_index()\n",
        "\n",
        "reverse_word_index = dict([(value, key) for (key, value) in word_index.items()])\n",
        "\n",
        "decoded_newswire = ' '.join([reverse_word_index.get(i - 3, '?') for i in train_data[0]])\n",
        "decoded_newswire"
      ],
      "execution_count": null,
      "outputs": [
        {
          "output_type": "execute_result",
          "data": {
            "application/vnd.google.colaboratory.intrinsic+json": {
              "type": "string"
            },
            "text/plain": [
              "'? ? ? said as a result of its december acquisition of ? co it expects earnings per share in 1987 of 1 15 to 1 30 dlrs per share up from 70 cts in 1986 the company said pretax net should rise to nine to 10 mln dlrs from six mln dlrs in 1986 and ? operation revenues to 19 to 22 mln dlrs from 12 5 mln dlrs it said cash flow per share this year should be 2 50 to three dlrs reuter 3'"
            ]
          },
          "metadata": {
            "tags": []
          },
          "execution_count": 37
        }
      ]
    },
    {
      "cell_type": "code",
      "metadata": {
        "id": "w1DfszjX0BM0"
      },
      "source": [
        "import numpy as np\n",
        "#obtenemos las posiciones de las palabras\n",
        "def vectorize_sequences(sequences, dimension=1500):\n",
        "    results = np.zeros((len(sequences), dimension))\n",
        "    for i, sequence in enumerate(sequences):\n",
        "        results[i, sequence] = 1.\n",
        "    return results\n",
        "# Training data\n",
        "x_train = vectorize_sequences(train_data)\n",
        "# Test data\n",
        "x_test = vectorize_sequences(test_data)"
      ],
      "execution_count": null,
      "outputs": []
    },
    {
      "cell_type": "code",
      "metadata": {
        "id": "DOZp4bxE0UGa"
      },
      "source": [
        "#mismo proceso para los datos de test\n",
        "def to_one_hot(labels, dimension=46):\n",
        "    results = np.zeros((len(labels), dimension))\n",
        "    for i, label in enumerate(labels):\n",
        "        results[i, label] = 1.\n",
        "    return results\n",
        "one_hot_train_labels = to_one_hot(train_labels)\n",
        "# Vectorized test labels\n",
        "one_hot_test_labels = to_one_hot(test_labels)"
      ],
      "execution_count": null,
      "outputs": []
    },
    {
      "cell_type": "code",
      "metadata": {
        "id": "1d6sQB_a0eGD"
      },
      "source": [
        "from keras.utils.np_utils import to_categorical\n",
        "\n",
        "one_hot_train_labels = to_categorical(train_labels)\n",
        "one_hot_test_labels = to_categorical(test_labels)"
      ],
      "execution_count": null,
      "outputs": []
    },
    {
      "cell_type": "code",
      "metadata": {
        "id": "8GnuX8HX0nha"
      },
      "source": [
        "from keras import models\n",
        "from keras import layers\n",
        "#utilizamos un modelo simple de red\n",
        "model = models.Sequential()\n",
        "model.add(layers.Dense(64, activation='relu', input_shape=(1500,)))\n",
        "model.add(layers.Dense(64, activation='relu'))\n",
        "model.add(layers.Dense(46, activation='softmax'))\n",
        "model.compile(optimizer='rmsprop',\n",
        "              loss='categorical_crossentropy',\n",
        "              metrics=['accuracy'])"
      ],
      "execution_count": null,
      "outputs": []
    },
    {
      "cell_type": "code",
      "metadata": {
        "colab": {
          "base_uri": "https://localhost:8080/"
        },
        "id": "XTGeKRTd1Jd0",
        "outputId": "63b7f6e1-30ee-444a-9357-15ad69e0b4a4"
      },
      "source": [
        "#Vamos a validar los datos contra el modelo\n",
        "x_val = x_train[:1000]\n",
        "partial_x_train = x_train[1000:]\n",
        "y_val = one_hot_train_labels[:1000]\n",
        "partial_y_train = one_hot_train_labels[1000:]\n",
        "history = model.fit(partial_x_train,\n",
        "                    partial_y_train,\n",
        "                    epochs=50,\n",
        "                    batch_size=128,\n",
        "                    validation_data=(x_val, y_val))"
      ],
      "execution_count": null,
      "outputs": [
        {
          "output_type": "stream",
          "text": [
            "Epoch 1/50\n",
            "63/63 [==============================] - 1s 9ms/step - loss: 2.5867 - accuracy: 0.4543 - val_loss: 1.3552 - val_accuracy: 0.7010\n",
            "Epoch 2/50\n",
            "63/63 [==============================] - 0s 6ms/step - loss: 1.2300 - accuracy: 0.7326 - val_loss: 1.1328 - val_accuracy: 0.7430\n",
            "Epoch 3/50\n",
            "63/63 [==============================] - 0s 5ms/step - loss: 0.9495 - accuracy: 0.7894 - val_loss: 0.9956 - val_accuracy: 0.7700\n",
            "Epoch 4/50\n",
            "63/63 [==============================] - 0s 6ms/step - loss: 0.7422 - accuracy: 0.8287 - val_loss: 0.9086 - val_accuracy: 0.7980\n",
            "Epoch 5/50\n",
            "63/63 [==============================] - 0s 6ms/step - loss: 0.6159 - accuracy: 0.8613 - val_loss: 0.8700 - val_accuracy: 0.7950\n",
            "Epoch 6/50\n",
            "63/63 [==============================] - 0s 6ms/step - loss: 0.5095 - accuracy: 0.8884 - val_loss: 0.8889 - val_accuracy: 0.7890\n",
            "Epoch 7/50\n",
            "63/63 [==============================] - 0s 5ms/step - loss: 0.4219 - accuracy: 0.9057 - val_loss: 0.8490 - val_accuracy: 0.8070\n",
            "Epoch 8/50\n",
            "63/63 [==============================] - 0s 6ms/step - loss: 0.3515 - accuracy: 0.9204 - val_loss: 0.8686 - val_accuracy: 0.8100\n",
            "Epoch 9/50\n",
            "63/63 [==============================] - 0s 6ms/step - loss: 0.3115 - accuracy: 0.9274 - val_loss: 0.9054 - val_accuracy: 0.8040\n",
            "Epoch 10/50\n",
            "63/63 [==============================] - 0s 6ms/step - loss: 0.2541 - accuracy: 0.9416 - val_loss: 0.9627 - val_accuracy: 0.7840\n",
            "Epoch 11/50\n",
            "63/63 [==============================] - 0s 6ms/step - loss: 0.2245 - accuracy: 0.9467 - val_loss: 0.9374 - val_accuracy: 0.8170\n",
            "Epoch 12/50\n",
            "63/63 [==============================] - 0s 6ms/step - loss: 0.2140 - accuracy: 0.9454 - val_loss: 0.9611 - val_accuracy: 0.8100\n",
            "Epoch 13/50\n",
            "63/63 [==============================] - 0s 6ms/step - loss: 0.1778 - accuracy: 0.9510 - val_loss: 1.0144 - val_accuracy: 0.8000\n",
            "Epoch 14/50\n",
            "63/63 [==============================] - 0s 5ms/step - loss: 0.1703 - accuracy: 0.9570 - val_loss: 1.0424 - val_accuracy: 0.8010\n",
            "Epoch 15/50\n",
            "63/63 [==============================] - 0s 6ms/step - loss: 0.1706 - accuracy: 0.9500 - val_loss: 1.0673 - val_accuracy: 0.7930\n",
            "Epoch 16/50\n",
            "63/63 [==============================] - 0s 6ms/step - loss: 0.1534 - accuracy: 0.9551 - val_loss: 1.0097 - val_accuracy: 0.8070\n",
            "Epoch 17/50\n",
            "63/63 [==============================] - 0s 6ms/step - loss: 0.1345 - accuracy: 0.9612 - val_loss: 1.0779 - val_accuracy: 0.8000\n",
            "Epoch 18/50\n",
            "63/63 [==============================] - 0s 6ms/step - loss: 0.1230 - accuracy: 0.9646 - val_loss: 1.1012 - val_accuracy: 0.7990\n",
            "Epoch 19/50\n",
            "63/63 [==============================] - 0s 5ms/step - loss: 0.1224 - accuracy: 0.9620 - val_loss: 1.1041 - val_accuracy: 0.7920\n",
            "Epoch 20/50\n",
            "63/63 [==============================] - 0s 6ms/step - loss: 0.1277 - accuracy: 0.9605 - val_loss: 1.1378 - val_accuracy: 0.7980\n",
            "Epoch 21/50\n",
            "63/63 [==============================] - 0s 6ms/step - loss: 0.1226 - accuracy: 0.9596 - val_loss: 1.1344 - val_accuracy: 0.7990\n",
            "Epoch 22/50\n",
            "63/63 [==============================] - 0s 6ms/step - loss: 0.1120 - accuracy: 0.9625 - val_loss: 1.1423 - val_accuracy: 0.7990\n",
            "Epoch 23/50\n",
            "63/63 [==============================] - 0s 5ms/step - loss: 0.1106 - accuracy: 0.9619 - val_loss: 1.2192 - val_accuracy: 0.7870\n",
            "Epoch 24/50\n",
            "63/63 [==============================] - 0s 5ms/step - loss: 0.1019 - accuracy: 0.9651 - val_loss: 1.2065 - val_accuracy: 0.7990\n",
            "Epoch 25/50\n",
            "63/63 [==============================] - 0s 6ms/step - loss: 0.0994 - accuracy: 0.9629 - val_loss: 1.2156 - val_accuracy: 0.7860\n",
            "Epoch 26/50\n",
            "63/63 [==============================] - 0s 6ms/step - loss: 0.1117 - accuracy: 0.9588 - val_loss: 1.2376 - val_accuracy: 0.7910\n",
            "Epoch 27/50\n",
            "63/63 [==============================] - 0s 6ms/step - loss: 0.1061 - accuracy: 0.9606 - val_loss: 1.1894 - val_accuracy: 0.7970\n",
            "Epoch 28/50\n",
            "63/63 [==============================] - 0s 6ms/step - loss: 0.1134 - accuracy: 0.9608 - val_loss: 1.2014 - val_accuracy: 0.7960\n",
            "Epoch 29/50\n",
            "63/63 [==============================] - 0s 6ms/step - loss: 0.0966 - accuracy: 0.9643 - val_loss: 1.2781 - val_accuracy: 0.7870\n",
            "Epoch 30/50\n",
            "63/63 [==============================] - 0s 5ms/step - loss: 0.1001 - accuracy: 0.9603 - val_loss: 1.2356 - val_accuracy: 0.7960\n",
            "Epoch 31/50\n",
            "63/63 [==============================] - 0s 6ms/step - loss: 0.0943 - accuracy: 0.9656 - val_loss: 1.3137 - val_accuracy: 0.7850\n",
            "Epoch 32/50\n",
            "63/63 [==============================] - 0s 6ms/step - loss: 0.0945 - accuracy: 0.9632 - val_loss: 1.2280 - val_accuracy: 0.7960\n",
            "Epoch 33/50\n",
            "63/63 [==============================] - 0s 5ms/step - loss: 0.0881 - accuracy: 0.9662 - val_loss: 1.2764 - val_accuracy: 0.7910\n",
            "Epoch 34/50\n",
            "63/63 [==============================] - 0s 6ms/step - loss: 0.0874 - accuracy: 0.9649 - val_loss: 1.2978 - val_accuracy: 0.7940\n",
            "Epoch 35/50\n",
            "63/63 [==============================] - 0s 6ms/step - loss: 0.0903 - accuracy: 0.9625 - val_loss: 1.2598 - val_accuracy: 0.7880\n",
            "Epoch 36/50\n",
            "63/63 [==============================] - 0s 6ms/step - loss: 0.0894 - accuracy: 0.9638 - val_loss: 1.2704 - val_accuracy: 0.7960\n",
            "Epoch 37/50\n",
            "63/63 [==============================] - 0s 5ms/step - loss: 0.0918 - accuracy: 0.9657 - val_loss: 1.3228 - val_accuracy: 0.7900\n",
            "Epoch 38/50\n",
            "63/63 [==============================] - 0s 6ms/step - loss: 0.0967 - accuracy: 0.9587 - val_loss: 1.3193 - val_accuracy: 0.7900\n",
            "Epoch 39/50\n",
            "63/63 [==============================] - 0s 5ms/step - loss: 0.0851 - accuracy: 0.9661 - val_loss: 1.3800 - val_accuracy: 0.7860\n",
            "Epoch 40/50\n",
            "63/63 [==============================] - 0s 6ms/step - loss: 0.0832 - accuracy: 0.9631 - val_loss: 1.3474 - val_accuracy: 0.7820\n",
            "Epoch 41/50\n",
            "63/63 [==============================] - 0s 5ms/step - loss: 0.0889 - accuracy: 0.9606 - val_loss: 1.3350 - val_accuracy: 0.7940\n",
            "Epoch 42/50\n",
            "63/63 [==============================] - 0s 6ms/step - loss: 0.0846 - accuracy: 0.9620 - val_loss: 1.3260 - val_accuracy: 0.7880\n",
            "Epoch 43/50\n",
            "63/63 [==============================] - 0s 6ms/step - loss: 0.0842 - accuracy: 0.9630 - val_loss: 1.4382 - val_accuracy: 0.7920\n",
            "Epoch 44/50\n",
            "63/63 [==============================] - 0s 5ms/step - loss: 0.0872 - accuracy: 0.9603 - val_loss: 1.3649 - val_accuracy: 0.7850\n",
            "Epoch 45/50\n",
            "63/63 [==============================] - 0s 6ms/step - loss: 0.0786 - accuracy: 0.9659 - val_loss: 1.3302 - val_accuracy: 0.7850\n",
            "Epoch 46/50\n",
            "63/63 [==============================] - 0s 6ms/step - loss: 0.0823 - accuracy: 0.9628 - val_loss: 1.4112 - val_accuracy: 0.7930\n",
            "Epoch 47/50\n",
            "63/63 [==============================] - 0s 5ms/step - loss: 0.0839 - accuracy: 0.9626 - val_loss: 1.3685 - val_accuracy: 0.7910\n",
            "Epoch 48/50\n",
            "63/63 [==============================] - 0s 6ms/step - loss: 0.0802 - accuracy: 0.9627 - val_loss: 1.3638 - val_accuracy: 0.7890\n",
            "Epoch 49/50\n",
            "63/63 [==============================] - 0s 6ms/step - loss: 0.0768 - accuracy: 0.9635 - val_loss: 1.4512 - val_accuracy: 0.7840\n",
            "Epoch 50/50\n",
            "63/63 [==============================] - 0s 5ms/step - loss: 0.0889 - accuracy: 0.9577 - val_loss: 1.3832 - val_accuracy: 0.7870\n"
          ],
          "name": "stdout"
        }
      ]
    },
    {
      "cell_type": "code",
      "metadata": {
        "colab": {
          "base_uri": "https://localhost:8080/",
          "height": 294
        },
        "id": "YZv7ylkw1YTA",
        "outputId": "bdec2257-d9a5-4f58-a024-3e8b0194e42e"
      },
      "source": [
        "import matplotlib.pyplot as plt\n",
        "\n",
        "loss = history.history['loss']\n",
        "val_loss = history.history['val_loss']\n",
        "\n",
        "epochs = range(1, len(loss) + 1)\n",
        "\n",
        "plt.plot(epochs, loss, 'bo', label='Training loss')\n",
        "plt.plot(epochs, val_loss, 'b', label='Validation loss')\n",
        "plt.title('Training and validation loss')\n",
        "plt.xlabel('Epochs')\n",
        "plt.ylabel('Loss')\n",
        "plt.legend()\n",
        "\n",
        "plt.show()"
      ],
      "execution_count": null,
      "outputs": [
        {
          "output_type": "display_data",
          "data": {
            "image/png": "[encoded data removed]",
            "text/plain": [
              "<Figure size 432x288 with 1 Axes>"
            ]
          },
          "metadata": {
            "tags": [],
            "needs_background": "light"
          }
        }
      ]
    },
    {
      "cell_type": "markdown",
      "metadata": {
        "id": "zw_fxpmQy9Uz"
      },
      "source": [
        "Generamos predicciones"
      ]
    },
    {
      "cell_type": "code",
      "metadata": {
        "id": "WQvOBFpk1wvK"
      },
      "source": [
        "predictions = model.predict(x_test)\n",
        "y_train = np.array(train_labels)\n",
        "y_test = np.array(test_labels)\n",
        "model.compile(optimizer='rmsprop', loss='sparse_categorical_crossentropy', metrics=['acc'])\n"
      ],
      "execution_count": null,
      "outputs": []
    },
    {
      "cell_type": "code",
      "metadata": {
        "id": "TyeSgNQY2CkW"
      },
      "source": [
        "model = models.Sequential()\n",
        "model.add(layers.Dense(64, activation='relu', input_shape=(1500,)))\n",
        "model.add(layers.Dense(4, activation='relu'))\n",
        "model.add(layers.Dense(46, activation='softmax'))\n"
      ],
      "execution_count": null,
      "outputs": []
    },
    {
      "cell_type": "code",
      "metadata": {
        "id": "w5ffTMBi2QNj"
      },
      "source": [
        "model.compile(optimizer='rmsprop',\n",
        "              loss='categorical_crossentropy',\n",
        "              metrics=['accuracy'])"
      ],
      "execution_count": null,
      "outputs": []
    },
    {
      "cell_type": "code",
      "metadata": {
        "colab": {
          "base_uri": "https://localhost:8080/"
        },
        "id": "4zLN6ILq2R4D",
        "outputId": "e5d27a6b-3fbe-466e-b65f-a7011cc8ff40"
      },
      "source": [
        "model.fit(partial_x_train,\n",
        "          partial_y_train,\n",
        "          epochs=50,\n",
        "          batch_size=128,\n",
        "          validation_data=(x_val, y_val))"
      ],
      "execution_count": null,
      "outputs": [
        {
          "output_type": "stream",
          "text": [
            "Epoch 1/50\n",
            "63/63 [==============================] - 1s 8ms/step - loss: 3.4364 - accuracy: 0.0692 - val_loss: 2.3966 - val_accuracy: 0.6100\n",
            "Epoch 2/50\n",
            "63/63 [==============================] - 0s 6ms/step - loss: 2.1129 - accuracy: 0.5992 - val_loss: 1.6472 - val_accuracy: 0.6130\n",
            "Epoch 3/50\n",
            "63/63 [==============================] - 0s 5ms/step - loss: 1.5036 - accuracy: 0.6345 - val_loss: 1.4775 - val_accuracy: 0.6260\n",
            "Epoch 4/50\n",
            "63/63 [==============================] - 0s 5ms/step - loss: 1.3816 - accuracy: 0.6376 - val_loss: 1.4249 - val_accuracy: 0.6500\n",
            "Epoch 5/50\n",
            "63/63 [==============================] - 0s 5ms/step - loss: 1.2167 - accuracy: 0.7090 - val_loss: 1.3571 - val_accuracy: 0.6990\n",
            "Epoch 6/50\n",
            "63/63 [==============================] - 0s 5ms/step - loss: 1.1375 - accuracy: 0.7309 - val_loss: 1.3170 - val_accuracy: 0.7100\n",
            "Epoch 7/50\n",
            "63/63 [==============================] - 0s 6ms/step - loss: 1.0511 - accuracy: 0.7465 - val_loss: 1.3070 - val_accuracy: 0.7080\n",
            "Epoch 8/50\n",
            "63/63 [==============================] - 0s 6ms/step - loss: 1.0188 - accuracy: 0.7564 - val_loss: 1.2754 - val_accuracy: 0.7110\n",
            "Epoch 9/50\n",
            "63/63 [==============================] - 0s 5ms/step - loss: 1.0067 - accuracy: 0.7520 - val_loss: 1.2680 - val_accuracy: 0.7140\n",
            "Epoch 10/50\n",
            "63/63 [==============================] - 0s 5ms/step - loss: 0.9552 - accuracy: 0.7622 - val_loss: 1.2802 - val_accuracy: 0.7120\n",
            "Epoch 11/50\n",
            "63/63 [==============================] - 0s 5ms/step - loss: 0.9175 - accuracy: 0.7724 - val_loss: 1.2696 - val_accuracy: 0.7070\n",
            "Epoch 12/50\n",
            "63/63 [==============================] - 0s 5ms/step - loss: 0.8989 - accuracy: 0.7718 - val_loss: 1.2871 - val_accuracy: 0.7100\n",
            "Epoch 13/50\n",
            "63/63 [==============================] - 0s 5ms/step - loss: 0.8628 - accuracy: 0.7786 - val_loss: 1.2764 - val_accuracy: 0.7070\n",
            "Epoch 14/50\n",
            "63/63 [==============================] - 0s 5ms/step - loss: 0.8213 - accuracy: 0.7884 - val_loss: 1.3130 - val_accuracy: 0.7060\n",
            "Epoch 15/50\n",
            "63/63 [==============================] - 0s 5ms/step - loss: 0.7924 - accuracy: 0.7938 - val_loss: 1.2891 - val_accuracy: 0.7090\n",
            "Epoch 16/50\n",
            "63/63 [==============================] - 0s 5ms/step - loss: 0.7723 - accuracy: 0.7990 - val_loss: 1.3229 - val_accuracy: 0.7120\n",
            "Epoch 17/50\n",
            "63/63 [==============================] - 0s 5ms/step - loss: 0.7563 - accuracy: 0.7988 - val_loss: 1.3103 - val_accuracy: 0.7170\n",
            "Epoch 18/50\n",
            "63/63 [==============================] - 0s 5ms/step - loss: 0.7566 - accuracy: 0.8074 - val_loss: 1.3461 - val_accuracy: 0.7050\n",
            "Epoch 19/50\n",
            "63/63 [==============================] - 0s 6ms/step - loss: 0.7007 - accuracy: 0.8161 - val_loss: 1.3461 - val_accuracy: 0.7030\n",
            "Epoch 20/50\n",
            "63/63 [==============================] - 0s 5ms/step - loss: 0.6802 - accuracy: 0.8191 - val_loss: 1.3706 - val_accuracy: 0.7050\n",
            "Epoch 21/50\n",
            "63/63 [==============================] - 0s 5ms/step - loss: 0.6558 - accuracy: 0.8231 - val_loss: 1.3738 - val_accuracy: 0.7160\n",
            "Epoch 22/50\n",
            "63/63 [==============================] - 0s 5ms/step - loss: 0.6597 - accuracy: 0.8234 - val_loss: 1.4041 - val_accuracy: 0.7080\n",
            "Epoch 23/50\n",
            "63/63 [==============================] - 0s 5ms/step - loss: 0.6422 - accuracy: 0.8305 - val_loss: 1.4414 - val_accuracy: 0.6990\n",
            "Epoch 24/50\n",
            "63/63 [==============================] - 0s 5ms/step - loss: 0.6374 - accuracy: 0.8314 - val_loss: 1.4452 - val_accuracy: 0.7020\n",
            "Epoch 25/50\n",
            "63/63 [==============================] - 0s 5ms/step - loss: 0.6173 - accuracy: 0.8328 - val_loss: 1.4524 - val_accuracy: 0.7070\n",
            "Epoch 26/50\n",
            "63/63 [==============================] - 0s 5ms/step - loss: 0.6062 - accuracy: 0.8396 - val_loss: 1.4651 - val_accuracy: 0.7130\n",
            "Epoch 27/50\n",
            "63/63 [==============================] - 0s 5ms/step - loss: 0.5727 - accuracy: 0.8499 - val_loss: 1.4911 - val_accuracy: 0.7030\n",
            "Epoch 28/50\n",
            "63/63 [==============================] - 0s 5ms/step - loss: 0.6161 - accuracy: 0.8390 - val_loss: 1.5089 - val_accuracy: 0.7110\n",
            "Epoch 29/50\n",
            "63/63 [==============================] - 0s 5ms/step - loss: 0.5495 - accuracy: 0.8527 - val_loss: 1.5541 - val_accuracy: 0.7030\n",
            "Epoch 30/50\n",
            "63/63 [==============================] - 0s 5ms/step - loss: 0.5441 - accuracy: 0.8572 - val_loss: 1.5626 - val_accuracy: 0.7030\n",
            "Epoch 31/50\n",
            "63/63 [==============================] - 0s 5ms/step - loss: 0.5351 - accuracy: 0.8542 - val_loss: 1.6000 - val_accuracy: 0.7030\n",
            "Epoch 32/50\n",
            "63/63 [==============================] - 0s 5ms/step - loss: 0.5264 - accuracy: 0.8581 - val_loss: 1.6167 - val_accuracy: 0.7060\n",
            "Epoch 33/50\n",
            "63/63 [==============================] - 0s 5ms/step - loss: 0.5109 - accuracy: 0.8628 - val_loss: 1.6522 - val_accuracy: 0.7060\n",
            "Epoch 34/50\n",
            "63/63 [==============================] - 0s 5ms/step - loss: 0.4969 - accuracy: 0.8657 - val_loss: 1.6354 - val_accuracy: 0.7050\n",
            "Epoch 35/50\n",
            "63/63 [==============================] - 0s 5ms/step - loss: 0.5099 - accuracy: 0.8622 - val_loss: 1.6973 - val_accuracy: 0.7060\n",
            "Epoch 36/50\n",
            "63/63 [==============================] - 0s 6ms/step - loss: 0.4594 - accuracy: 0.8715 - val_loss: 1.7304 - val_accuracy: 0.7090\n",
            "Epoch 37/50\n",
            "63/63 [==============================] - 0s 5ms/step - loss: 0.4838 - accuracy: 0.8685 - val_loss: 1.7219 - val_accuracy: 0.6990\n",
            "Epoch 38/50\n",
            "63/63 [==============================] - 0s 5ms/step - loss: 0.4586 - accuracy: 0.8768 - val_loss: 1.7931 - val_accuracy: 0.7080\n",
            "Epoch 39/50\n",
            "63/63 [==============================] - 0s 5ms/step - loss: 0.4578 - accuracy: 0.8765 - val_loss: 1.8101 - val_accuracy: 0.6980\n",
            "Epoch 40/50\n",
            "63/63 [==============================] - 0s 5ms/step - loss: 0.4421 - accuracy: 0.8741 - val_loss: 1.8083 - val_accuracy: 0.7040\n",
            "Epoch 41/50\n",
            "63/63 [==============================] - 0s 5ms/step - loss: 0.4228 - accuracy: 0.8828 - val_loss: 1.8344 - val_accuracy: 0.7030\n",
            "Epoch 42/50\n",
            "63/63 [==============================] - 0s 5ms/step - loss: 0.4417 - accuracy: 0.8792 - val_loss: 1.9084 - val_accuracy: 0.7080\n",
            "Epoch 43/50\n",
            "63/63 [==============================] - 0s 5ms/step - loss: 0.4122 - accuracy: 0.8831 - val_loss: 1.9304 - val_accuracy: 0.7000\n",
            "Epoch 44/50\n",
            "63/63 [==============================] - 0s 5ms/step - loss: 0.4376 - accuracy: 0.8787 - val_loss: 1.9365 - val_accuracy: 0.7040\n",
            "Epoch 45/50\n",
            "63/63 [==============================] - 0s 5ms/step - loss: 0.4177 - accuracy: 0.8843 - val_loss: 1.9400 - val_accuracy: 0.7030\n",
            "Epoch 46/50\n",
            "63/63 [==============================] - 0s 5ms/step - loss: 0.4216 - accuracy: 0.8819 - val_loss: 2.0250 - val_accuracy: 0.6980\n",
            "Epoch 47/50\n",
            "63/63 [==============================] - 0s 5ms/step - loss: 0.4013 - accuracy: 0.8872 - val_loss: 2.0571 - val_accuracy: 0.7040\n",
            "Epoch 48/50\n",
            "63/63 [==============================] - 0s 5ms/step - loss: 0.3613 - accuracy: 0.9003 - val_loss: 2.0718 - val_accuracy: 0.7020\n",
            "Epoch 49/50\n",
            "63/63 [==============================] - 0s 5ms/step - loss: 0.3580 - accuracy: 0.8990 - val_loss: 2.0997 - val_accuracy: 0.7020\n",
            "Epoch 50/50\n",
            "63/63 [==============================] - 0s 6ms/step - loss: 0.3720 - accuracy: 0.8977 - val_loss: 2.1648 - val_accuracy: 0.7040\n"
          ],
          "name": "stdout"
        },
        {
          "output_type": "execute_result",
          "data": {
            "text/plain": [
              "<tensorflow.python.keras.callbacks.History at 0x7f284906d5d0>"
            ]
          },
          "metadata": {
            "tags": []
          },
          "execution_count": 47
        }
      ]
    },
    {
      "cell_type": "code",
      "metadata": {
        "colab": {
          "base_uri": "https://localhost:8080/"
        },
        "id": "oX2GUJZI2ZlS",
        "outputId": "e7d11f88-a3e6-480e-cc51-ec1fc9696889"
      },
      "source": [
        "results = model.evaluate(x_test, one_hot_test_labels)\n",
        "results"
      ],
      "execution_count": null,
      "outputs": [
        {
          "output_type": "stream",
          "text": [
            "71/71 [==============================] - 0s 1ms/step - loss: 2.3783 - accuracy: 0.6643\n"
          ],
          "name": "stdout"
        },
        {
          "output_type": "execute_result",
          "data": {
            "text/plain": [
              "[2.3783419132232666, 0.6642920970916748]"
            ]
          },
          "metadata": {
            "tags": []
          },
          "execution_count": 48
        }
      ]
    },
    {
      "cell_type": "markdown",
      "metadata": {
        "id": "IbqRWAE7Nlli"
      },
      "source": [
        "## Ejercicio opcional \n",
        "\n",
        "A lo largo de la práctica los embeddings se han aprendido al entrenar la propia red. El ejercicio opcional consiste en utilizar embeddings preentrenados y utilizarlos para construir distintos modelos (ten en cuenta que deberás cambiar la estructura de las redes). Para esto puedes seguir el siguiente [tutorial de Keras](https://keras.io/examples/nlp/pretrained_word_embeddings/)."
      ]
    },
    {
      "cell_type": "markdown",
      "metadata": {
        "id": "yTPppnccJSEw"
      },
      "source": [
        "**Esta Opción falla, está corregida más abajo**"
      ]
    },
    {
      "cell_type": "code",
      "metadata": {
        "id": "Sek-f09Q5iaO"
      },
      "source": [
        "import numpy as np\n",
        "import tensorflow as tf\n",
        "import os\n",
        "import pathlib\n",
        "from tensorflow import keras\n",
        "os.mkdir('keras')\n",
        "\n",
        "os.mkdir('keras/datasets')"
      ],
      "execution_count": 2,
      "outputs": []
    },
    {
      "cell_type": "code",
      "metadata": {
        "id": "yvrZj009NlH3"
      },
      "source": [
        "\n",
        "data_path = keras.utils.get_file(\n",
        "    \"news20.tar.gz\",\n",
        "    \"http://www.cs.cmu.edu/afs/cs.cmu.edu/project/theo-20/www/data/news20.tar.gz\",\n",
        "    untar=True,\n",
        ")"
      ],
      "execution_count": 3,
      "outputs": []
    },
    {
      "cell_type": "code",
      "metadata": {
        "colab": {
          "base_uri": "https://localhost:8080/"
        },
        "id": "LeIbLw7V28AO",
        "outputId": "5221f734-b91b-4658-b8ce-fe6727e8fa08"
      },
      "source": [
        "\n",
        "\n",
        "data_dir = pathlib.Path(data_path).parent / \"20_newsgroup\"\n",
        "dirnames = os.listdir(data_dir)\n",
        "print(\"Number of directories:\", len(dirnames))\n",
        "print(\"Directory names:\", dirnames)\n",
        "\n",
        "fnames = os.listdir(data_dir / \"comp.graphics\")\n",
        "print(\"Number of files in comp.graphics:\", len(fnames))\n",
        "print(\"Some example filenames:\", fnames[:5])"
      ],
      "execution_count": 4,
      "outputs": [
        {
          "output_type": "stream",
          "text": [
            "Number of directories: 20\n",
            "Directory names: ['rec.motorcycles', 'talk.politics.misc', 'soc.religion.christian', 'talk.religion.misc', 'sci.space', 'alt.atheism', 'comp.graphics', 'sci.crypt', 'rec.sport.hockey', 'sci.med', 'talk.politics.mideast', 'comp.os.ms-windows.misc', 'sci.electronics', 'comp.sys.ibm.pc.hardware', 'comp.windows.x', 'rec.autos', 'comp.sys.mac.hardware', 'misc.forsale', 'talk.politics.guns', 'rec.sport.baseball']\n",
            "Number of files in comp.graphics: 1000\n",
            "Some example filenames: ['38774', '39045', '38623', '37944', '38917']\n"
          ],
          "name": "stdout"
        }
      ]
    },
    {
      "cell_type": "code",
      "metadata": {
        "colab": {
          "base_uri": "https://localhost:8080/"
        },
        "id": "Pp_3kS7f3BRa",
        "outputId": "0a67fd6e-28bb-4d07-8b3e-8647fe94105c"
      },
      "source": [
        "print(open(data_dir / \"comp.graphics\" / \"38987\").read())\n"
      ],
      "execution_count": 5,
      "outputs": [
        {
          "output_type": "stream",
          "text": [
            "Newsgroups: comp.graphics\n",
            "Path: cantaloupe.srv.cs.cmu.edu!das-news.harvard.edu!noc.near.net!howland.reston.ans.net!agate!dog.ee.lbl.gov!network.ucsd.edu!usc!rpi!nason110.its.rpi.edu!mabusj\n",
            "From: mabusj@nason110.its.rpi.edu (Jasen M. Mabus)\n",
            "Subject: Looking for Brain in CAD\n",
            "Message-ID: <c285m+p@rpi.edu>\n",
            "Nntp-Posting-Host: nason110.its.rpi.edu\n",
            "Reply-To: mabusj@rpi.edu\n",
            "Organization: Rensselaer Polytechnic Institute, Troy, NY.\n",
            "Date: Thu, 29 Apr 1993 23:27:20 GMT\n",
            "Lines: 7\n",
            "\n",
            "Jasen Mabus\n",
            "RPI student\n",
            "\n",
            "\tI am looking for a hman brain in any CAD (.dxf,.cad,.iges,.cgm,etc.) or picture (.gif,.jpg,.ras,etc.) format for an animation demonstration. If any has or knows of a location please reply by e-mail to mabusj@rpi.edu.\n",
            "\n",
            "Thank you in advance,\n",
            "Jasen Mabus  \n",
            "\n"
          ],
          "name": "stdout"
        }
      ]
    },
    {
      "cell_type": "code",
      "metadata": {
        "colab": {
          "base_uri": "https://localhost:8080/"
        },
        "id": "1o44Ye-E3Hq7",
        "outputId": "e2411967-12ad-45eb-fa84-91c34aa2c5f3"
      },
      "source": [
        "samples = []\n",
        "labels = []\n",
        "class_names = []\n",
        "class_index = 0\n",
        "for dirname in sorted(os.listdir(data_dir)):\n",
        "    class_names.append(dirname)\n",
        "    dirpath = data_dir / dirname\n",
        "    fnames = os.listdir(dirpath)\n",
        "    print(\"Processing %s, %d files found\" % (dirname, len(fnames)))\n",
        "    for fname in fnames:\n",
        "        fpath = dirpath / fname\n",
        "        f = open(fpath, encoding=\"latin-1\")\n",
        "        content = f.read()\n",
        "        lines = content.split(\"\\n\")\n",
        "        lines = lines[10:]\n",
        "        content = \"\\n\".join(lines)\n",
        "        samples.append(content)\n",
        "        labels.append(class_index)\n",
        "    class_index += 1\n",
        "\n",
        "print(\"Classes:\", class_names)\n",
        "print(\"Number of samples:\", len(samples))"
      ],
      "execution_count": 6,
      "outputs": [
        {
          "output_type": "stream",
          "text": [
            "Processing alt.atheism, 1000 files found\n",
            "Processing comp.graphics, 1000 files found\n",
            "Processing comp.os.ms-windows.misc, 1000 files found\n",
            "Processing comp.sys.ibm.pc.hardware, 1000 files found\n",
            "Processing comp.sys.mac.hardware, 1000 files found\n",
            "Processing comp.windows.x, 1000 files found\n",
            "Processing misc.forsale, 1000 files found\n",
            "Processing rec.autos, 1000 files found\n",
            "Processing rec.motorcycles, 1000 files found\n",
            "Processing rec.sport.baseball, 1000 files found\n",
            "Processing rec.sport.hockey, 1000 files found\n",
            "Processing sci.crypt, 1000 files found\n",
            "Processing sci.electronics, 1000 files found\n",
            "Processing sci.med, 1000 files found\n",
            "Processing sci.space, 1000 files found\n",
            "Processing soc.religion.christian, 997 files found\n",
            "Processing talk.politics.guns, 1000 files found\n",
            "Processing talk.politics.mideast, 1000 files found\n",
            "Processing talk.politics.misc, 1000 files found\n",
            "Processing talk.religion.misc, 1000 files found\n",
            "Classes: ['alt.atheism', 'comp.graphics', 'comp.os.ms-windows.misc', 'comp.sys.ibm.pc.hardware', 'comp.sys.mac.hardware', 'comp.windows.x', 'misc.forsale', 'rec.autos', 'rec.motorcycles', 'rec.sport.baseball', 'rec.sport.hockey', 'sci.crypt', 'sci.electronics', 'sci.med', 'sci.space', 'soc.religion.christian', 'talk.politics.guns', 'talk.politics.mideast', 'talk.politics.misc', 'talk.religion.misc']\n",
            "Number of samples: 19997\n"
          ],
          "name": "stdout"
        }
      ]
    },
    {
      "cell_type": "code",
      "metadata": {
        "id": "Dc4ZzA2C3LrI"
      },
      "source": [
        "# Shuffle the data\n",
        "seed = 1337\n",
        "rng = np.random.RandomState(seed)\n",
        "rng.shuffle(samples)\n",
        "rng = np.random.RandomState(seed)\n",
        "rng.shuffle(labels)\n",
        "\n",
        "# Extract a training & validation split\n",
        "validation_split = 0.2\n",
        "num_validation_samples = int(validation_split * len(samples))\n",
        "train_samples = samples[:-num_validation_samples]\n",
        "val_samples = samples[-num_validation_samples:]\n",
        "train_labels = labels[:-num_validation_samples]\n",
        "val_labels = labels[-num_validation_samples:]"
      ],
      "execution_count": 7,
      "outputs": []
    },
    {
      "cell_type": "code",
      "metadata": {
        "id": "FXQalOY_3OAd"
      },
      "source": [
        "from tensorflow.keras.layers.experimental.preprocessing import TextVectorization\n",
        "\n",
        "vectorizer = TextVectorization(max_tokens=20000, output_sequence_length=200)\n",
        "text_ds = tf.data.Dataset.from_tensor_slices(train_samples).batch(128)\n",
        "vectorizer.adapt(text_ds)"
      ],
      "execution_count": null,
      "outputs": []
    },
    {
      "cell_type": "code",
      "metadata": {
        "colab": {
          "base_uri": "https://localhost:8080/"
        },
        "id": "I2CaNsy83RzQ",
        "outputId": "b24cb4e7-4884-48cb-f6d0-fba4be402854"
      },
      "source": [
        "vectorizer.get_vocabulary()[:5]\n"
      ],
      "execution_count": null,
      "outputs": [
        {
          "output_type": "execute_result",
          "data": {
            "text/plain": [
              "['', '[UNK]', 'the', 'to', 'of']"
            ]
          },
          "metadata": {
            "tags": []
          },
          "execution_count": 13
        }
      ]
    },
    {
      "cell_type": "code",
      "metadata": {
        "colab": {
          "base_uri": "https://localhost:8080/"
        },
        "id": "38R61zzH3VIK",
        "outputId": "3e859ccf-3e06-4ae9-fa69-2d3c26b4d779"
      },
      "source": [
        "output = vectorizer([[\"the cat sat on the mat\"]])\n",
        "output.numpy()[0, :6]"
      ],
      "execution_count": null,
      "outputs": [
        {
          "output_type": "execute_result",
          "data": {
            "text/plain": [
              "array([   2, 3355, 1684,   15,    2, 6327])"
            ]
          },
          "metadata": {
            "tags": []
          },
          "execution_count": 14
        }
      ]
    },
    {
      "cell_type": "code",
      "metadata": {
        "id": "iPJAMQjU3XO-"
      },
      "source": [
        "voc = vectorizer.get_vocabulary()\n",
        "word_index = dict(zip(voc, range(len(voc))))"
      ],
      "execution_count": null,
      "outputs": []
    },
    {
      "cell_type": "code",
      "metadata": {
        "colab": {
          "base_uri": "https://localhost:8080/"
        },
        "id": "6BLE7s_f3Y2u",
        "outputId": "e40a070e-15d9-4672-9299-0f3f4a0aeaa0"
      },
      "source": [
        "test = [\"the\", \"cat\", \"sat\", \"on\", \"the\", \"mat\"]\n",
        "[word_index[w] for w in test]"
      ],
      "execution_count": null,
      "outputs": [
        {
          "output_type": "execute_result",
          "data": {
            "text/plain": [
              "[2, 3355, 1684, 15, 2, 6327]"
            ]
          },
          "metadata": {
            "tags": []
          },
          "execution_count": 16
        }
      ]
    },
    {
      "cell_type": "code",
      "metadata": {
        "colab": {
          "base_uri": "https://localhost:8080/"
        },
        "id": "B16e40Au3bqx",
        "outputId": "38bc50cd-fbb6-4c04-bf4b-1ff5ce638da4"
      },
      "source": [
        "!wget http://nlp.stanford.edu/data/glove.6B.zip\n",
        "!unzip -q glove.6B.zip"
      ],
      "execution_count": null,
      "outputs": [
        {
          "output_type": "stream",
          "text": [
            "--2021-05-18 10:30:45--  http://nlp.stanford.edu/data/glove.6B.zip\n",
            "Resolving nlp.stanford.edu (nlp.stanford.edu)... 171.64.67.140\n",
            "Connecting to nlp.stanford.edu (nlp.stanford.edu)|171.64.67.140|:80... connected.\n",
            "HTTP request sent, awaiting response... 302 Found\n",
            "Location: https://nlp.stanford.edu/data/glove.6B.zip [following]\n",
            "--2021-05-18 10:30:45--  https://nlp.stanford.edu/data/glove.6B.zip\n",
            "Connecting to nlp.stanford.edu (nlp.stanford.edu)|171.64.67.140|:443... connected.\n",
            "HTTP request sent, awaiting response... 301 Moved Permanently\n",
            "Location: http://downloads.cs.stanford.edu/nlp/data/glove.6B.zip [following]\n",
            "--2021-05-18 10:30:46--  http://downloads.cs.stanford.edu/nlp/data/glove.6B.zip\n",
            "Resolving downloads.cs.stanford.edu (downloads.cs.stanford.edu)... 171.64.64.22\n",
            "Connecting to downloads.cs.stanford.edu (downloads.cs.stanford.edu)|171.64.64.22|:80... connected.\n",
            "HTTP request sent, awaiting response... 200 OK\n",
            "Length: 862182613 (822M) [application/zip]\n",
            "Saving to: ‘glove.6B.zip’\n",
            "\n",
            "glove.6B.zip        100%[===================>] 822.24M  4.81MB/s    in 2m 44s  \n",
            "\n",
            "2021-05-18 10:33:30 (5.03 MB/s) - ‘glove.6B.zip’ saved [862182613/862182613]\n",
            "\n"
          ],
          "name": "stdout"
        }
      ]
    },
    {
      "cell_type": "code",
      "metadata": {
        "colab": {
          "base_uri": "https://localhost:8080/"
        },
        "id": "h2IAGOp-3dqW",
        "outputId": "3d8b7159-1dea-4dd6-a95d-36b1bd98b870"
      },
      "source": [
        "path_to_glove_file = os.path.join(\n",
        "    os.path.expanduser(\"~\"), \"/content/glove.6B.100d.txt\"\n",
        ")\n",
        "\n",
        "embeddings_index = {}\n",
        "with open(path_to_glove_file) as f:\n",
        "    for line in f:\n",
        "        word, coefs = line.split(maxsplit=1)\n",
        "        coefs = np.fromstring(coefs, \"f\", sep=\" \")\n",
        "        embeddings_index[word] = coefs\n",
        "\n",
        "print(\"Found %s word vectors.\" % len(embeddings_index))"
      ],
      "execution_count": null,
      "outputs": [
        {
          "output_type": "stream",
          "text": [
            "Found 400000 word vectors.\n"
          ],
          "name": "stdout"
        }
      ]
    },
    {
      "cell_type": "code",
      "metadata": {
        "colab": {
          "base_uri": "https://localhost:8080/"
        },
        "id": "59jCgpdr3geY",
        "outputId": "a2d30ab9-d9c8-4cb6-ee77-8528359b5494"
      },
      "source": [
        "num_tokens = len(voc) + 2\n",
        "embedding_dim = 100\n",
        "hits = 0\n",
        "misses = 0\n",
        "\n",
        "# Prepare embedding matrix\n",
        "embedding_matrix = np.zeros((num_tokens, embedding_dim))\n",
        "for word, i in word_index.items():\n",
        "    embedding_vector = embeddings_index.get(word)\n",
        "    if embedding_vector is not None:\n",
        "        # Words not found in embedding index will be all-zeros.\n",
        "        # This includes the representation for \"padding\" and \"OOV\"\n",
        "        embedding_matrix[i] = embedding_vector\n",
        "        hits += 1\n",
        "    else:\n",
        "        misses += 1\n",
        "print(\"Converted %d words (%d misses)\" % (hits, misses))"
      ],
      "execution_count": null,
      "outputs": [
        {
          "output_type": "stream",
          "text": [
            "Converted 17976 words (2024 misses)\n"
          ],
          "name": "stdout"
        }
      ]
    },
    {
      "cell_type": "code",
      "metadata": {
        "id": "kJkol_6o33D0"
      },
      "source": [
        "from tensorflow.keras.layers import Embedding\n",
        "\n",
        "embedding_layer = Embedding(\n",
        "    num_tokens,\n",
        "    embedding_dim,\n",
        "    embeddings_initializer=keras.initializers.Constant(embedding_matrix),\n",
        "    trainable=False,\n",
        ")"
      ],
      "execution_count": null,
      "outputs": []
    },
    {
      "cell_type": "code",
      "metadata": {
        "colab": {
          "base_uri": "https://localhost:8080/"
        },
        "id": "YHZCEhNf34rB",
        "outputId": "34798b06-dfa9-466b-917f-367267c327d7"
      },
      "source": [
        "from tensorflow.keras import layers\n",
        "\n",
        "int_sequences_input = keras.Input(shape=(None,), dtype=\"int64\")\n",
        "embedded_sequences = embedding_layer(int_sequences_input)\n",
        "x = layers.Conv1D(128, 5, activation=\"relu\")(embedded_sequences)\n",
        "x = layers.MaxPooling1D(5)(x)\n",
        "x = layers.Conv1D(128, 5, activation=\"relu\")(x)\n",
        "x = layers.MaxPooling1D(5)(x)\n",
        "x = layers.Conv1D(128, 5, activation=\"relu\")(x)\n",
        "x = layers.GlobalMaxPooling1D()(x)\n",
        "x = layers.Dense(128, activation=\"relu\")(x)\n",
        "x = layers.Dropout(0.5)(x)\n",
        "preds = layers.Dense(len(class_names), activation=\"softmax\")(x)\n",
        "model = keras.Model(int_sequences_input, preds)\n",
        "model.summary()"
      ],
      "execution_count": null,
      "outputs": [
        {
          "output_type": "stream",
          "text": [
            "Model: \"model\"\n",
            "_________________________________________________________________\n",
            "Layer (type)                 Output Shape              Param #   \n",
            "=================================================================\n",
            "input_1 (InputLayer)         [(None, None)]            0         \n",
            "_________________________________________________________________\n",
            "embedding_5 (Embedding)      (None, None, 100)         2000200   \n",
            "_________________________________________________________________\n",
            "conv1d_1 (Conv1D)            (None, None, 128)         64128     \n",
            "_________________________________________________________________\n",
            "max_pooling1d_1 (MaxPooling1 (None, None, 128)         0         \n",
            "_________________________________________________________________\n",
            "conv1d_2 (Conv1D)            (None, None, 128)         82048     \n",
            "_________________________________________________________________\n",
            "max_pooling1d_2 (MaxPooling1 (None, None, 128)         0         \n",
            "_________________________________________________________________\n",
            "conv1d_3 (Conv1D)            (None, None, 128)         82048     \n",
            "_________________________________________________________________\n",
            "global_max_pooling1d (Global (None, 128)               0         \n",
            "_________________________________________________________________\n",
            "dense_14 (Dense)             (None, 128)               16512     \n",
            "_________________________________________________________________\n",
            "dropout_1 (Dropout)          (None, 128)               0         \n",
            "_________________________________________________________________\n",
            "dense_15 (Dense)             (None, 20)                2580      \n",
            "=================================================================\n",
            "Total params: 2,247,516\n",
            "Trainable params: 247,316\n",
            "Non-trainable params: 2,000,200\n",
            "_________________________________________________________________\n"
          ],
          "name": "stdout"
        }
      ]
    },
    {
      "cell_type": "code",
      "metadata": {
        "id": "4cTDgK0i36wc"
      },
      "source": [
        "x_train = vectorizer(np.array([[s] for s in train_samples])).numpy()\n",
        "x_val = vectorizer(np.array([[s] for s in val_samples])).numpy()\n",
        "\n",
        "y_train = np.array(train_labels)\n",
        "y_val = np.array(val_labels)"
      ],
      "execution_count": null,
      "outputs": []
    },
    {
      "cell_type": "code",
      "metadata": {
        "id": "LgN74byp39sX"
      },
      "source": [
        "model.compile(\n",
        "    loss=\"sparse_categorical_crossentropy\", optimizer=\"rmsprop\", metrics=[\"acc\"]\n",
        ")\n",
        "model.fit(x_train, y_train, batch_size=128, epochs=20, validation_data=(x_val, y_val))"
      ],
      "execution_count": null,
      "outputs": []
    },
    {
      "cell_type": "code",
      "metadata": {
        "id": "_gxhIw0u4AEK"
      },
      "source": [
        "string_input = keras.Input(shape=(1,), dtype=\"string\")\n",
        "x = vectorizer(string_input)\n",
        "preds = model(x)\n",
        "end_to_end_model = keras.Model(string_input, preds)\n",
        "\n",
        "probabilities = end_to_end_model.predict(\n",
        "    [[\"this message is about computer graphics and 3D modeling\"]]\n",
        ")\n",
        "\n",
        "class_names[np.argmax(probabilities[0])]"
      ],
      "execution_count": null,
      "outputs": []
    },
    {
      "cell_type": "markdown",
      "metadata": {
        "id": "5h_rPuupJNZo"
      },
      "source": [
        "Prueba 2 : "
      ]
    },
    {
      "cell_type": "code",
      "metadata": {
        "id": "jjeNW9N3JM6Y"
      },
      "source": [
        "import numpy as np\n",
        "import tensorflow as tf\n",
        "from tensorflow import keras"
      ],
      "execution_count": 8,
      "outputs": []
    },
    {
      "cell_type": "code",
      "metadata": {
        "id": "dFSu0zOpJY42"
      },
      "source": [
        "#dowloading dataset\n",
        "data_path = keras.utils.get_file(\n",
        "    \"news20.tar.gz\",\n",
        "    \"http://www.cs.cmu.edu/afs/cs.cmu.edu/project/theo-20/www/data/news20.tar.gz\",\n",
        "    untar=True,\n",
        ")"
      ],
      "execution_count": 9,
      "outputs": []
    },
    {
      "cell_type": "code",
      "metadata": {
        "colab": {
          "base_uri": "https://localhost:8080/"
        },
        "id": "lYAaeza9Je5N",
        "outputId": "88625bed-8c3b-42cb-b0b4-9650f45a6015"
      },
      "source": [
        "import pathlib\n",
        "#listado de directorios\n",
        "data_dir = pathlib.Path(data_path).parent / \"20_newsgroup\"\n",
        "dirnames = os.listdir(data_dir)\n",
        "print(\"Number of directories:\", len(dirnames))\n",
        "print(\"Directory names:\", dirnames)\n",
        "\n",
        "fnames = os.listdir(data_dir / \"comp.graphics\")\n",
        "print(\"Number of files in comp.graphics:\", len(fnames))\n",
        "print(\"Some example filenames:\", fnames[:5])"
      ],
      "execution_count": 10,
      "outputs": [
        {
          "output_type": "stream",
          "text": [
            "Number of directories: 20\n",
            "Directory names: ['rec.motorcycles', 'talk.politics.misc', 'soc.religion.christian', 'talk.religion.misc', 'sci.space', 'alt.atheism', 'comp.graphics', 'sci.crypt', 'rec.sport.hockey', 'sci.med', 'talk.politics.mideast', 'comp.os.ms-windows.misc', 'sci.electronics', 'comp.sys.ibm.pc.hardware', 'comp.windows.x', 'rec.autos', 'comp.sys.mac.hardware', 'misc.forsale', 'talk.politics.guns', 'rec.sport.baseball']\n",
            "Number of files in comp.graphics: 1000\n",
            "Some example filenames: ['38774', '39045', '38623', '37944', '38917']\n"
          ],
          "name": "stdout"
        }
      ]
    },
    {
      "cell_type": "code",
      "metadata": {
        "colab": {
          "base_uri": "https://localhost:8080/"
        },
        "id": "5IZFuT9CJmpu",
        "outputId": "d0dab21f-4b0c-4425-f20c-4ad81d9d690b"
      },
      "source": [
        "print(open(data_dir / \"comp.graphics\" / \"38500\").read())\n",
        "#ver el contenido de un texto "
      ],
      "execution_count": 17,
      "outputs": [
        {
          "output_type": "stream",
          "text": [
            "Path: cantaloupe.srv.cs.cmu.edu!das-news.harvard.edu!noc.near.net!uunet!pipex!sunic!aun.uninett.no!nuug!nntp-oslo.uninett.no!kih.no!oved3b\n",
            "From: oved3b@kih.no (Ove Petter Tro)\n",
            "Newsgroups: comp.graphics\n",
            "Subject: Re: need a viewer for gl files\n",
            "Date: 20 Apr 1993 11:49:32 GMT\n",
            "Organization: Kongsberg College of Engineering\n",
            "Lines: 16\n",
            "Distribution: world\n",
            "Message-ID: <1r0o0c$l5u@ratatosk.uninett.no>\n",
            "References: <1qu36i$kh7@dux.dundee.ac.uk>\n",
            "NNTP-Posting-Host: knoll.kih.no\n",
            "\n",
            "In article <1qu36i$kh7@dux.dundee.ac.uk>, dwestner@cardhu.mcs.dundee.ac.uk (Dominik Westner) writes:\n",
            "|> the subject says it all. Is there a PD viewer for gl files (for X)?\n",
            "\n",
            "Try xviewgl.\n",
            "(filename xviewgl_v1.1.tar.Z on lots of bases)\n",
            "\n",
            "- Ove\n",
            "-- \n",
            "- ----------==========###########==========-------- -\n",
            "    //                     | \"What do you think\n",
            "  \\X/ (Yep, me too...)     |  this is?  Real life?\"\n",
            "Ove Petter Tro,            |    - Ford Fairlane.\n",
            "Kongsberg College          |\n",
            "of Engineering, Norway     | email: ovep@kih.no\n",
            "- ----------==========###########==========-------- -\n",
            "\n",
            "\n"
          ],
          "name": "stdout"
        }
      ]
    },
    {
      "cell_type": "code",
      "metadata": {
        "colab": {
          "base_uri": "https://localhost:8080/"
        },
        "id": "Mnf3VkbPJ3G4",
        "outputId": "0c96fc91-e48d-40ba-c767-adc909292198"
      },
      "source": [
        "#Eliminacion de las cabeceras\n",
        "samples = []\n",
        "labels = []\n",
        "class_names = []\n",
        "class_index = 0\n",
        "for dirname in sorted(os.listdir(data_dir)):\n",
        "    class_names.append(dirname)\n",
        "    dirpath = data_dir / dirname\n",
        "    fnames = os.listdir(dirpath)\n",
        "    print(\"Processing %s, %d files found\" % (dirname, len(fnames)))\n",
        "    for fname in fnames:\n",
        "        fpath = dirpath / fname\n",
        "        f = open(fpath, encoding=\"latin-1\")\n",
        "        content = f.read()\n",
        "        lines = content.split(\"\\n\")\n",
        "        lines = lines[10:]\n",
        "        content = \"\\n\".join(lines)\n",
        "        samples.append(content)\n",
        "        labels.append(class_index)\n",
        "    class_index += 1\n",
        "\n",
        "print(\"Classes:\", class_names)\n",
        "print(\"Number of samples:\", len(samples))"
      ],
      "execution_count": 18,
      "outputs": [
        {
          "output_type": "stream",
          "text": [
            "Processing alt.atheism, 1000 files found\n",
            "Processing comp.graphics, 1000 files found\n",
            "Processing comp.os.ms-windows.misc, 1000 files found\n",
            "Processing comp.sys.ibm.pc.hardware, 1000 files found\n",
            "Processing comp.sys.mac.hardware, 1000 files found\n",
            "Processing comp.windows.x, 1000 files found\n",
            "Processing misc.forsale, 1000 files found\n",
            "Processing rec.autos, 1000 files found\n",
            "Processing rec.motorcycles, 1000 files found\n",
            "Processing rec.sport.baseball, 1000 files found\n",
            "Processing rec.sport.hockey, 1000 files found\n",
            "Processing sci.crypt, 1000 files found\n",
            "Processing sci.electronics, 1000 files found\n",
            "Processing sci.med, 1000 files found\n",
            "Processing sci.space, 1000 files found\n",
            "Processing soc.religion.christian, 997 files found\n",
            "Processing talk.politics.guns, 1000 files found\n",
            "Processing talk.politics.mideast, 1000 files found\n",
            "Processing talk.politics.misc, 1000 files found\n",
            "Processing talk.religion.misc, 1000 files found\n",
            "Classes: ['alt.atheism', 'comp.graphics', 'comp.os.ms-windows.misc', 'comp.sys.ibm.pc.hardware', 'comp.sys.mac.hardware', 'comp.windows.x', 'misc.forsale', 'rec.autos', 'rec.motorcycles', 'rec.sport.baseball', 'rec.sport.hockey', 'sci.crypt', 'sci.electronics', 'sci.med', 'sci.space', 'soc.religion.christian', 'talk.politics.guns', 'talk.politics.mideast', 'talk.politics.misc', 'talk.religion.misc']\n",
            "Number of samples: 19997\n"
          ],
          "name": "stdout"
        }
      ]
    },
    {
      "cell_type": "code",
      "metadata": {
        "id": "ebD51nCcKAm1"
      },
      "source": [
        "#Division del dataset entre el conjunto de validacion entrenamiento y test\n",
        "# Shuffle the data\n",
        "seed = 1337\n",
        "rng = np.random.RandomState(seed)\n",
        "rng.shuffle(samples)\n",
        "rng = np.random.RandomState(seed)\n",
        "rng.shuffle(labels)\n",
        "\n",
        "# Extract a training & validation split\n",
        "validation_split = 0.2\n",
        "num_validation_samples = int(validation_split * len(samples))\n",
        "train_samples = samples[:-num_validation_samples]\n",
        "val_samples = samples[-num_validation_samples:]\n",
        "train_labels = labels[:-num_validation_samples]\n",
        "val_labels = labels[-num_validation_samples:]"
      ],
      "execution_count": 19,
      "outputs": []
    },
    {
      "cell_type": "code",
      "metadata": {
        "id": "wE0tTHyIKJEN"
      },
      "source": [
        "#Creamos un vocabulario de 20000 palabras\n",
        "from tensorflow.keras.layers.experimental.preprocessing import TextVectorization\n",
        "\n",
        "vectorizer = TextVectorization(max_tokens=20000, output_sequence_length=200)\n",
        "text_ds = tf.data.Dataset.from_tensor_slices(train_samples).batch(128)\n",
        "vectorizer.adapt(text_ds)"
      ],
      "execution_count": 21,
      "outputs": []
    },
    {
      "cell_type": "code",
      "metadata": {
        "colab": {
          "base_uri": "https://localhost:8080/"
        },
        "id": "4sDg-f2-Kkf1",
        "outputId": "e2f951f9-c847-4c69-f754-d8306e2b7f85"
      },
      "source": [
        "#Mostramos 10 primeras palabras del vocabulario\n",
        "vocabulario=vectorizer.get_vocabulary()[1:10]\n",
        "#Estas palabras son convertidas en enteros\n",
        "\n",
        "for el in vocabulario:\n",
        "  print(el)\n",
        "  output = vectorizer([[el]])\n",
        "  print('representación numérica'+str(output))\n"
      ],
      "execution_count": 30,
      "outputs": [
        {
          "output_type": "stream",
          "text": [
            "[UNK]\n",
            "representación numéricatf.Tensor(\n",
            "[[1 0 0 0 0 0 0 0 0 0 0 0 0 0 0 0 0 0 0 0 0 0 0 0 0 0 0 0 0 0 0 0 0 0 0 0\n",
            "  0 0 0 0 0 0 0 0 0 0 0 0 0 0 0 0 0 0 0 0 0 0 0 0 0 0 0 0 0 0 0 0 0 0 0 0\n",
            "  0 0 0 0 0 0 0 0 0 0 0 0 0 0 0 0 0 0 0 0 0 0 0 0 0 0 0 0 0 0 0 0 0 0 0 0\n",
            "  0 0 0 0 0 0 0 0 0 0 0 0 0 0 0 0 0 0 0 0 0 0 0 0 0 0 0 0 0 0 0 0 0 0 0 0\n",
            "  0 0 0 0 0 0 0 0 0 0 0 0 0 0 0 0 0 0 0 0 0 0 0 0 0 0 0 0 0 0 0 0 0 0 0 0\n",
            "  0 0 0 0 0 0 0 0 0 0 0 0 0 0 0 0 0 0 0 0]], shape=(1, 200), dtype=int64)\n",
            "the\n",
            "representación numéricatf.Tensor(\n",
            "[[2 0 0 0 0 0 0 0 0 0 0 0 0 0 0 0 0 0 0 0 0 0 0 0 0 0 0 0 0 0 0 0 0 0 0 0\n",
            "  0 0 0 0 0 0 0 0 0 0 0 0 0 0 0 0 0 0 0 0 0 0 0 0 0 0 0 0 0 0 0 0 0 0 0 0\n",
            "  0 0 0 0 0 0 0 0 0 0 0 0 0 0 0 0 0 0 0 0 0 0 0 0 0 0 0 0 0 0 0 0 0 0 0 0\n",
            "  0 0 0 0 0 0 0 0 0 0 0 0 0 0 0 0 0 0 0 0 0 0 0 0 0 0 0 0 0 0 0 0 0 0 0 0\n",
            "  0 0 0 0 0 0 0 0 0 0 0 0 0 0 0 0 0 0 0 0 0 0 0 0 0 0 0 0 0 0 0 0 0 0 0 0\n",
            "  0 0 0 0 0 0 0 0 0 0 0 0 0 0 0 0 0 0 0 0]], shape=(1, 200), dtype=int64)\n",
            "to\n",
            "representación numéricatf.Tensor(\n",
            "[[3 0 0 0 0 0 0 0 0 0 0 0 0 0 0 0 0 0 0 0 0 0 0 0 0 0 0 0 0 0 0 0 0 0 0 0\n",
            "  0 0 0 0 0 0 0 0 0 0 0 0 0 0 0 0 0 0 0 0 0 0 0 0 0 0 0 0 0 0 0 0 0 0 0 0\n",
            "  0 0 0 0 0 0 0 0 0 0 0 0 0 0 0 0 0 0 0 0 0 0 0 0 0 0 0 0 0 0 0 0 0 0 0 0\n",
            "  0 0 0 0 0 0 0 0 0 0 0 0 0 0 0 0 0 0 0 0 0 0 0 0 0 0 0 0 0 0 0 0 0 0 0 0\n",
            "  0 0 0 0 0 0 0 0 0 0 0 0 0 0 0 0 0 0 0 0 0 0 0 0 0 0 0 0 0 0 0 0 0 0 0 0\n",
            "  0 0 0 0 0 0 0 0 0 0 0 0 0 0 0 0 0 0 0 0]], shape=(1, 200), dtype=int64)\n",
            "of\n",
            "representación numéricatf.Tensor(\n",
            "[[4 0 0 0 0 0 0 0 0 0 0 0 0 0 0 0 0 0 0 0 0 0 0 0 0 0 0 0 0 0 0 0 0 0 0 0\n",
            "  0 0 0 0 0 0 0 0 0 0 0 0 0 0 0 0 0 0 0 0 0 0 0 0 0 0 0 0 0 0 0 0 0 0 0 0\n",
            "  0 0 0 0 0 0 0 0 0 0 0 0 0 0 0 0 0 0 0 0 0 0 0 0 0 0 0 0 0 0 0 0 0 0 0 0\n",
            "  0 0 0 0 0 0 0 0 0 0 0 0 0 0 0 0 0 0 0 0 0 0 0 0 0 0 0 0 0 0 0 0 0 0 0 0\n",
            "  0 0 0 0 0 0 0 0 0 0 0 0 0 0 0 0 0 0 0 0 0 0 0 0 0 0 0 0 0 0 0 0 0 0 0 0\n",
            "  0 0 0 0 0 0 0 0 0 0 0 0 0 0 0 0 0 0 0 0]], shape=(1, 200), dtype=int64)\n",
            "a\n",
            "representación numéricatf.Tensor(\n",
            "[[5 0 0 0 0 0 0 0 0 0 0 0 0 0 0 0 0 0 0 0 0 0 0 0 0 0 0 0 0 0 0 0 0 0 0 0\n",
            "  0 0 0 0 0 0 0 0 0 0 0 0 0 0 0 0 0 0 0 0 0 0 0 0 0 0 0 0 0 0 0 0 0 0 0 0\n",
            "  0 0 0 0 0 0 0 0 0 0 0 0 0 0 0 0 0 0 0 0 0 0 0 0 0 0 0 0 0 0 0 0 0 0 0 0\n",
            "  0 0 0 0 0 0 0 0 0 0 0 0 0 0 0 0 0 0 0 0 0 0 0 0 0 0 0 0 0 0 0 0 0 0 0 0\n",
            "  0 0 0 0 0 0 0 0 0 0 0 0 0 0 0 0 0 0 0 0 0 0 0 0 0 0 0 0 0 0 0 0 0 0 0 0\n",
            "  0 0 0 0 0 0 0 0 0 0 0 0 0 0 0 0 0 0 0 0]], shape=(1, 200), dtype=int64)\n",
            "and\n",
            "representación numéricatf.Tensor(\n",
            "[[6 0 0 0 0 0 0 0 0 0 0 0 0 0 0 0 0 0 0 0 0 0 0 0 0 0 0 0 0 0 0 0 0 0 0 0\n",
            "  0 0 0 0 0 0 0 0 0 0 0 0 0 0 0 0 0 0 0 0 0 0 0 0 0 0 0 0 0 0 0 0 0 0 0 0\n",
            "  0 0 0 0 0 0 0 0 0 0 0 0 0 0 0 0 0 0 0 0 0 0 0 0 0 0 0 0 0 0 0 0 0 0 0 0\n",
            "  0 0 0 0 0 0 0 0 0 0 0 0 0 0 0 0 0 0 0 0 0 0 0 0 0 0 0 0 0 0 0 0 0 0 0 0\n",
            "  0 0 0 0 0 0 0 0 0 0 0 0 0 0 0 0 0 0 0 0 0 0 0 0 0 0 0 0 0 0 0 0 0 0 0 0\n",
            "  0 0 0 0 0 0 0 0 0 0 0 0 0 0 0 0 0 0 0 0]], shape=(1, 200), dtype=int64)\n",
            "in\n",
            "representación numéricatf.Tensor(\n",
            "[[7 0 0 0 0 0 0 0 0 0 0 0 0 0 0 0 0 0 0 0 0 0 0 0 0 0 0 0 0 0 0 0 0 0 0 0\n",
            "  0 0 0 0 0 0 0 0 0 0 0 0 0 0 0 0 0 0 0 0 0 0 0 0 0 0 0 0 0 0 0 0 0 0 0 0\n",
            "  0 0 0 0 0 0 0 0 0 0 0 0 0 0 0 0 0 0 0 0 0 0 0 0 0 0 0 0 0 0 0 0 0 0 0 0\n",
            "  0 0 0 0 0 0 0 0 0 0 0 0 0 0 0 0 0 0 0 0 0 0 0 0 0 0 0 0 0 0 0 0 0 0 0 0\n",
            "  0 0 0 0 0 0 0 0 0 0 0 0 0 0 0 0 0 0 0 0 0 0 0 0 0 0 0 0 0 0 0 0 0 0 0 0\n",
            "  0 0 0 0 0 0 0 0 0 0 0 0 0 0 0 0 0 0 0 0]], shape=(1, 200), dtype=int64)\n",
            "is\n",
            "representación numéricatf.Tensor(\n",
            "[[8 0 0 0 0 0 0 0 0 0 0 0 0 0 0 0 0 0 0 0 0 0 0 0 0 0 0 0 0 0 0 0 0 0 0 0\n",
            "  0 0 0 0 0 0 0 0 0 0 0 0 0 0 0 0 0 0 0 0 0 0 0 0 0 0 0 0 0 0 0 0 0 0 0 0\n",
            "  0 0 0 0 0 0 0 0 0 0 0 0 0 0 0 0 0 0 0 0 0 0 0 0 0 0 0 0 0 0 0 0 0 0 0 0\n",
            "  0 0 0 0 0 0 0 0 0 0 0 0 0 0 0 0 0 0 0 0 0 0 0 0 0 0 0 0 0 0 0 0 0 0 0 0\n",
            "  0 0 0 0 0 0 0 0 0 0 0 0 0 0 0 0 0 0 0 0 0 0 0 0 0 0 0 0 0 0 0 0 0 0 0 0\n",
            "  0 0 0 0 0 0 0 0 0 0 0 0 0 0 0 0 0 0 0 0]], shape=(1, 200), dtype=int64)\n",
            "i\n",
            "representación numéricatf.Tensor(\n",
            "[[9 0 0 0 0 0 0 0 0 0 0 0 0 0 0 0 0 0 0 0 0 0 0 0 0 0 0 0 0 0 0 0 0 0 0 0\n",
            "  0 0 0 0 0 0 0 0 0 0 0 0 0 0 0 0 0 0 0 0 0 0 0 0 0 0 0 0 0 0 0 0 0 0 0 0\n",
            "  0 0 0 0 0 0 0 0 0 0 0 0 0 0 0 0 0 0 0 0 0 0 0 0 0 0 0 0 0 0 0 0 0 0 0 0\n",
            "  0 0 0 0 0 0 0 0 0 0 0 0 0 0 0 0 0 0 0 0 0 0 0 0 0 0 0 0 0 0 0 0 0 0 0 0\n",
            "  0 0 0 0 0 0 0 0 0 0 0 0 0 0 0 0 0 0 0 0 0 0 0 0 0 0 0 0 0 0 0 0 0 0 0 0\n",
            "  0 0 0 0 0 0 0 0 0 0 0 0 0 0 0 0 0 0 0 0]], shape=(1, 200), dtype=int64)\n"
          ],
          "name": "stdout"
        }
      ]
    },
    {
      "cell_type": "code",
      "metadata": {
        "colab": {
          "base_uri": "https://localhost:8080/"
        },
        "id": "pCJ5DUOALUbE",
        "outputId": "0b4d9506-a309-4eb1-9b43-fb734f652dae"
      },
      "source": [
        "# Mapeamos las palabras a un diccionario\n",
        "voc = vectorizer.get_vocabulary()\n",
        "word_index = dict(zip(voc, range(len(voc))))\n",
        "test = [\"the\", \"cat\", \"sat\", \"on\", \"the\", \"mat\"]\n",
        "[word_index[w] for w in test]"
      ],
      "execution_count": 33,
      "outputs": [
        {
          "output_type": "execute_result",
          "data": {
            "text/plain": [
              "[2, 3692, 1826, 15, 2, 6103]"
            ]
          },
          "metadata": {
            "tags": []
          },
          "execution_count": 33
        }
      ]
    },
    {
      "cell_type": "code",
      "metadata": {
        "id": "SFi5SRJSLfRB"
      },
      "source": [
        "#Cargamos embeddings hechos\n"
      ],
      "execution_count": null,
      "outputs": []
    },
    {
      "cell_type": "code",
      "metadata": {
        "colab": {
          "base_uri": "https://localhost:8080/"
        },
        "id": "2CunMOBGL_AU",
        "outputId": "73074f42-0dbb-4f9c-d523-9bab0f4ac4bb"
      },
      "source": [
        "!wget http://nlp.stanford.edu/data/glove.6B.zip\n",
        "!unzip -q glove.6B.zip"
      ],
      "execution_count": 34,
      "outputs": [
        {
          "output_type": "stream",
          "text": [
            "--2021-05-20 19:10:46--  http://nlp.stanford.edu/data/glove.6B.zip\n",
            "Resolving nlp.stanford.edu (nlp.stanford.edu)... 171.64.67.140\n",
            "Connecting to nlp.stanford.edu (nlp.stanford.edu)|171.64.67.140|:80... connected.\n",
            "HTTP request sent, awaiting response... 302 Found\n",
            "Location: https://nlp.stanford.edu/data/glove.6B.zip [following]\n",
            "--2021-05-20 19:10:46--  https://nlp.stanford.edu/data/glove.6B.zip\n",
            "Connecting to nlp.stanford.edu (nlp.stanford.edu)|171.64.67.140|:443... connected.\n",
            "HTTP request sent, awaiting response... 301 Moved Permanently\n",
            "Location: http://downloads.cs.stanford.edu/nlp/data/glove.6B.zip [following]\n",
            "--2021-05-20 19:10:47--  http://downloads.cs.stanford.edu/nlp/data/glove.6B.zip\n",
            "Resolving downloads.cs.stanford.edu (downloads.cs.stanford.edu)... 171.64.64.22\n",
            "Connecting to downloads.cs.stanford.edu (downloads.cs.stanford.edu)|171.64.64.22|:80... connected.\n",
            "HTTP request sent, awaiting response... 200 OK\n",
            "Length: 862182613 (822M) [application/zip]\n",
            "Saving to: ‘glove.6B.zip.1’\n",
            "\n",
            "glove.6B.zip.1      100%[===================>] 822.24M  4.99MB/s    in 2m 41s  \n",
            "\n",
            "2021-05-20 19:13:28 (5.12 MB/s) - ‘glove.6B.zip.1’ saved [862182613/862182613]\n",
            "\n",
            "replace glove.6B.50d.txt? [y]es, [n]o, [A]ll, [N]one, [r]ename: A\n"
          ],
          "name": "stdout"
        }
      ]
    },
    {
      "cell_type": "code",
      "metadata": {
        "colab": {
          "base_uri": "https://localhost:8080/"
        },
        "id": "u8LtgVVUMGfV",
        "outputId": "4d702556-a7a3-4031-f9a1-0d37bf91b37e"
      },
      "source": [
        "#descarga del dataset de pruebas\n",
        "\n",
        "embeddings_index = {}\n",
        "with open(\"glove.6B.100d.txt\") as f:\n",
        "    for line in f:\n",
        "        word, coefs = line.split(maxsplit=1)\n",
        "        coefs = np.fromstring(coefs, \"f\", sep=\" \")\n",
        "        embeddings_index[word] = coefs\n",
        "\n",
        "print(\"Found %s word vectors.\" % len(embeddings_index))"
      ],
      "execution_count": 35,
      "outputs": [
        {
          "output_type": "stream",
          "text": [
            "Found 400000 word vectors.\n"
          ],
          "name": "stdout"
        }
      ]
    },
    {
      "cell_type": "code",
      "metadata": {
        "colab": {
          "base_uri": "https://localhost:8080/"
        },
        "id": "h76m09PGMYQk",
        "outputId": "8372aa97-3096-4e19-c740-87601a228b3e"
      },
      "source": [
        "#Se crea la matriz de embeddings con las palabras del archivo leido\n",
        "num_tokens = len(voc) + 2\n",
        "embedding_dim = 100\n",
        "hits = 0\n",
        "misses = 0\n",
        "\n",
        "# Prepare embedding matrix\n",
        "embedding_matrix = np.zeros((num_tokens, embedding_dim))\n",
        "for word, i in word_index.items():\n",
        "    embedding_vector = embeddings_index.get(word)\n",
        "    if embedding_vector is not None:\n",
        "        # Words not found in embedding index will be all-zeros.\n",
        "        # This includes the representation for \"padding\" and \"OOV\"\n",
        "        embedding_matrix[i] = embedding_vector\n",
        "        hits += 1\n",
        "    else:\n",
        "        misses += 1\n",
        "print(\"Converted %d words (%d misses)\" % (hits, misses))"
      ],
      "execution_count": 37,
      "outputs": [
        {
          "output_type": "stream",
          "text": [
            "Converted 17959 words (2041 misses)\n"
          ],
          "name": "stdout"
        }
      ]
    },
    {
      "cell_type": "code",
      "metadata": {
        "colab": {
          "base_uri": "https://localhost:8080/"
        },
        "id": "JkTl5rjrNS0u",
        "outputId": "47696520-441c-49f3-de18-cd4ece5f3b51"
      },
      "source": [
        "#Construcción del modelo\n",
        "from tensorflow.keras.layers import Embedding\n",
        "\n",
        "embedding_layer = Embedding(\n",
        "    num_tokens,\n",
        "    embedding_dim,\n",
        "    embeddings_initializer=keras.initializers.Constant(embedding_matrix),\n",
        "    trainable=False,\n",
        ")\n",
        "from tensorflow.keras import layers\n",
        "\n",
        "int_sequences_input = keras.Input(shape=(None,), dtype=\"int64\")\n",
        "embedded_sequences = embedding_layer(int_sequences_input)\n",
        "x = layers.Conv1D(128, 5, activation=\"relu\")(embedded_sequences)\n",
        "x = layers.MaxPooling1D(5)(x)\n",
        "x = layers.Conv1D(128, 5, activation=\"relu\")(x)\n",
        "x = layers.MaxPooling1D(5)(x)\n",
        "x = layers.Conv1D(128, 5, activation=\"relu\")(x)\n",
        "x = layers.GlobalMaxPooling1D()(x)\n",
        "x = layers.Dense(128, activation=\"relu\")(x)\n",
        "x = layers.Dropout(0.5)(x)\n",
        "preds = layers.Dense(len(class_names), activation=\"softmax\")(x)\n",
        "model = keras.Model(int_sequences_input, preds)\n",
        "model.summary()"
      ],
      "execution_count": 40,
      "outputs": [
        {
          "output_type": "stream",
          "text": [
            "Model: \"model_1\"\n",
            "_________________________________________________________________\n",
            "Layer (type)                 Output Shape              Param #   \n",
            "=================================================================\n",
            "input_2 (InputLayer)         [(None, None)]            0         \n",
            "_________________________________________________________________\n",
            "embedding_2 (Embedding)      (None, None, 100)         2000200   \n",
            "_________________________________________________________________\n",
            "conv1d_3 (Conv1D)            (None, None, 128)         64128     \n",
            "_________________________________________________________________\n",
            "max_pooling1d_2 (MaxPooling1 (None, None, 128)         0         \n",
            "_________________________________________________________________\n",
            "conv1d_4 (Conv1D)            (None, None, 128)         82048     \n",
            "_________________________________________________________________\n",
            "max_pooling1d_3 (MaxPooling1 (None, None, 128)         0         \n",
            "_________________________________________________________________\n",
            "conv1d_5 (Conv1D)            (None, None, 128)         82048     \n",
            "_________________________________________________________________\n",
            "global_max_pooling1d_1 (Glob (None, 128)               0         \n",
            "_________________________________________________________________\n",
            "dense_2 (Dense)              (None, 128)               16512     \n",
            "_________________________________________________________________\n",
            "dropout_1 (Dropout)          (None, 128)               0         \n",
            "_________________________________________________________________\n",
            "dense_3 (Dense)              (None, 20)                2580      \n",
            "=================================================================\n",
            "Total params: 2,247,516\n",
            "Trainable params: 247,316\n",
            "Non-trainable params: 2,000,200\n",
            "_________________________________________________________________\n"
          ],
          "name": "stdout"
        }
      ]
    },
    {
      "cell_type": "code",
      "metadata": {
        "id": "uC6DOvRWNdND"
      },
      "source": [
        "#Entrenamiento del modelo\n",
        "x_train = vectorizer(np.array([[s] for s in train_samples[0:1000]])).numpy()\n",
        "x_val = vectorizer(np.array([[s] for s in val_samples[0:1000]])).numpy()\n",
        "\n",
        "y_train = np.array(train_labels[0:1000])\n",
        "y_val = np.array(val_labels[0:1000])"
      ],
      "execution_count": 42,
      "outputs": []
    },
    {
      "cell_type": "code",
      "metadata": {
        "colab": {
          "base_uri": "https://localhost:8080/"
        },
        "id": "UAfLqW8PNf6x",
        "outputId": "885b8f29-94db-4a6f-adc4-0272bed98a13"
      },
      "source": [
        "#Compilación del modelo\n",
        "model.compile(\n",
        "    loss=\"sparse_categorical_crossentropy\", optimizer=\"rmsprop\", metrics=[\"acc\"]\n",
        ")\n",
        "model.fit(x_train, y_train, batch_size=128, epochs=20, validation_data=(x_val, y_val))"
      ],
      "execution_count": 43,
      "outputs": [
        {
          "output_type": "stream",
          "text": [
            "Epoch 1/20\n",
            "8/8 [==============================] - 28s 59ms/step - loss: 3.1227 - acc: 0.0546 - val_loss: 2.9929 - val_acc: 0.0710\n",
            "Epoch 2/20\n",
            "8/8 [==============================] - 0s 17ms/step - loss: 2.9786 - acc: 0.0760 - val_loss: 2.9704 - val_acc: 0.0970\n",
            "Epoch 3/20\n",
            "8/8 [==============================] - 0s 18ms/step - loss: 2.9342 - acc: 0.1078 - val_loss: 2.9069 - val_acc: 0.1240\n",
            "Epoch 4/20\n",
            "8/8 [==============================] - 0s 18ms/step - loss: 2.8438 - acc: 0.1381 - val_loss: 2.9485 - val_acc: 0.0740\n",
            "Epoch 5/20\n",
            "8/8 [==============================] - 0s 18ms/step - loss: 2.8479 - acc: 0.1198 - val_loss: 2.8368 - val_acc: 0.1110\n",
            "Epoch 6/20\n",
            "8/8 [==============================] - 0s 18ms/step - loss: 2.6942 - acc: 0.1510 - val_loss: 2.6569 - val_acc: 0.1810\n",
            "Epoch 7/20\n",
            "8/8 [==============================] - 0s 20ms/step - loss: 2.5459 - acc: 0.2039 - val_loss: 2.5014 - val_acc: 0.1710\n",
            "Epoch 8/20\n",
            "8/8 [==============================] - 0s 18ms/step - loss: 2.4599 - acc: 0.1964 - val_loss: 2.5158 - val_acc: 0.1530\n",
            "Epoch 9/20\n",
            "8/8 [==============================] - 0s 17ms/step - loss: 2.3163 - acc: 0.2628 - val_loss: 2.3367 - val_acc: 0.2190\n",
            "Epoch 10/20\n",
            "8/8 [==============================] - 0s 18ms/step - loss: 2.2517 - acc: 0.2648 - val_loss: 2.4099 - val_acc: 0.1850\n",
            "Epoch 11/20\n",
            "8/8 [==============================] - 0s 17ms/step - loss: 2.2130 - acc: 0.2961 - val_loss: 2.2605 - val_acc: 0.2500\n",
            "Epoch 12/20\n",
            "8/8 [==============================] - 0s 17ms/step - loss: 2.0514 - acc: 0.3286 - val_loss: 2.2451 - val_acc: 0.2420\n",
            "Epoch 13/20\n",
            "8/8 [==============================] - 0s 18ms/step - loss: 2.0202 - acc: 0.3502 - val_loss: 2.1817 - val_acc: 0.2540\n",
            "Epoch 14/20\n",
            "8/8 [==============================] - 0s 18ms/step - loss: 1.8758 - acc: 0.4185 - val_loss: 2.1810 - val_acc: 0.2330\n",
            "Epoch 15/20\n",
            "8/8 [==============================] - 0s 17ms/step - loss: 1.8375 - acc: 0.4143 - val_loss: 2.2916 - val_acc: 0.2500\n",
            "Epoch 16/20\n",
            "8/8 [==============================] - 0s 17ms/step - loss: 1.8292 - acc: 0.4166 - val_loss: 2.2787 - val_acc: 0.2620\n",
            "Epoch 17/20\n",
            "8/8 [==============================] - 0s 17ms/step - loss: 1.7435 - acc: 0.4430 - val_loss: 2.1764 - val_acc: 0.2930\n",
            "Epoch 18/20\n",
            "8/8 [==============================] - 0s 17ms/step - loss: 1.6692 - acc: 0.4758 - val_loss: 1.9550 - val_acc: 0.3220\n",
            "Epoch 19/20\n",
            "8/8 [==============================] - 0s 17ms/step - loss: 1.4992 - acc: 0.5207 - val_loss: 2.1026 - val_acc: 0.3070\n",
            "Epoch 20/20\n",
            "8/8 [==============================] - 0s 18ms/step - loss: 1.4934 - acc: 0.5097 - val_loss: 2.0138 - val_acc: 0.3280\n"
          ],
          "name": "stdout"
        },
        {
          "output_type": "execute_result",
          "data": {
            "text/plain": [
              "<tensorflow.python.keras.callbacks.History at 0x7f527069b910>"
            ]
          },
          "metadata": {
            "tags": []
          },
          "execution_count": 43
        }
      ]
    },
    {
      "cell_type": "code",
      "metadata": {
        "colab": {
          "base_uri": "https://localhost:8080/",
          "height": 72
        },
        "id": "sHj7eR1RNtwz",
        "outputId": "68371d96-056b-4a48-8d7b-b0be501a91aa"
      },
      "source": [
        "#Finalmente exportamos el modelo\n",
        "string_input = keras.Input(shape=(1,), dtype=\"string\")\n",
        "x = vectorizer(string_input)\n",
        "preds = model(x)\n",
        "end_to_end_model = keras.Model(string_input, preds)\n",
        "\n",
        "probabilities = end_to_end_model.predict(\n",
        "    [[\"Biden signs bill aimed at addressing rise in anti-Asian hate crimes\"],[\"Hello how you are doing\"]]\n",
        ")\n",
        "\n",
        "class_names[np.argmax(probabilities[1])]\n"
      ],
      "execution_count": 51,
      "outputs": [
        {
          "output_type": "stream",
          "text": [
            "WARNING:tensorflow:8 out of the last 8 calls to <function Model.make_predict_function.<locals>.predict_function at 0x7f5202075830> triggered tf.function retracing. Tracing is expensive and the excessive number of tracings could be due to (1) creating @tf.function repeatedly in a loop, (2) passing tensors with different shapes, (3) passing Python objects instead of tensors. For (1), please define your @tf.function outside of the loop. For (2), @tf.function has experimental_relax_shapes=True option that relaxes argument shapes that can avoid unnecessary retracing. For (3), please refer to https://www.tensorflow.org/guide/function#controlling_retracing and https://www.tensorflow.org/api_docs/python/tf/function for  more details.\n"
          ],
          "name": "stdout"
        },
        {
          "output_type": "execute_result",
          "data": {
            "application/vnd.google.colaboratory.intrinsic+json": {
              "type": "string"
            },
            "text/plain": [
              "'comp.graphics'"
            ]
          },
          "metadata": {
            "tags": []
          },
          "execution_count": 51
        }
      ]
    },
    {
      "cell_type": "markdown",
      "metadata": {
        "id": "2hd_0BCHSlSy"
      },
      "source": [
        "Recuerda guardar tus cambios en tu repositorio de GitHub usando la opción \"Save in GitHub\" del menú File."
      ]
    },
    {
      "cell_type": "markdown",
      "metadata": {
        "id": "nMGWXN-wJlzC"
      },
      "source": [
        ""
      ]
    }
  ]
}