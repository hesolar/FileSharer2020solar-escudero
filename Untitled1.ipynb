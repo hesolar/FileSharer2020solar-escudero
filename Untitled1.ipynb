{
  "nbformat": 4,
  "nbformat_minor": 0,
  "metadata": {
    "colab": {
      "name": "Untitled1.ipynb",
      "provenance": [],
      "toc_visible": true,
      "authorship_tag": "ABX9TyNnuPe/moY8Eyi4c2ryFBwr",
      "include_colab_link": true
    },
    "kernelspec": {
      "name": "python3",
      "display_name": "Python 3"
    }
  },
  "cells": [
    {
      "cell_type": "markdown",
      "metadata": {
        "id": "view-in-github",
        "colab_type": "text"
      },
      "source": [
        "<a href=\"https://colab.research.google.com/github/hesolar/TrabajoDistribuidos2020solar-escudero/blob/master/Untitled1.ipynb\" target=\"_parent\"><img src=\"https://colab.research.google.com/assets/colab-badge.svg\" alt=\"Open In Colab\"/></a>"
      ]
    },
    {
      "cell_type": "code",
      "metadata": {
        "id": "dOkzv6SYHVUA"
      },
      "source": [
        ""
      ],
      "execution_count": null,
      "outputs": []
    },
    {
      "cell_type": "code",
      "metadata": {
        "colab": {
          "base_uri": "https://localhost:8080/",
          "height": 407
        },
        "id": "gmDphtv8Fcxc",
        "outputId": "44433b69-cb69-41af-b8e6-e72a6dda1aa4"
      },
      "source": [
        "import pandas as pd\r\n",
        "from sklearn.cluster import KMeans\r\n",
        "import matplotlib.pyplot as plt\r\n",
        "%matplotlib inline \r\n",
        "df = pd.read_csv('train.csv')\r\n",
        "df2= pd.read_csv('test.csv')\r\n",
        "df"
      ],
      "execution_count": 20,
      "outputs": [
        {
          "output_type": "execute_result",
          "data": {
            "text/html": [
              "<div>\n",
              "<style scoped>\n",
              "    .dataframe tbody tr th:only-of-type {\n",
              "        vertical-align: middle;\n",
              "    }\n",
              "\n",
              "    .dataframe tbody tr th {\n",
              "        vertical-align: top;\n",
              "    }\n",
              "\n",
              "    .dataframe thead th {\n",
              "        text-align: right;\n",
              "    }\n",
              "</style>\n",
              "<table border=\"1\" class=\"dataframe\">\n",
              "  <thead>\n",
              "    <tr style=\"text-align: right;\">\n",
              "      <th></th>\n",
              "      <th>SL</th>\n",
              "      <th>EEG</th>\n",
              "      <th>BP</th>\n",
              "      <th>HR</th>\n",
              "      <th>CIRCULATION</th>\n",
              "      <th>ACTIVITY</th>\n",
              "    </tr>\n",
              "  </thead>\n",
              "  <tbody>\n",
              "    <tr>\n",
              "      <th>0</th>\n",
              "      <td>4019.64</td>\n",
              "      <td>-1600.00</td>\n",
              "      <td>13</td>\n",
              "      <td>79</td>\n",
              "      <td>317</td>\n",
              "      <td>3</td>\n",
              "    </tr>\n",
              "    <tr>\n",
              "      <th>1</th>\n",
              "      <td>2191.03</td>\n",
              "      <td>-1146.08</td>\n",
              "      <td>20</td>\n",
              "      <td>54</td>\n",
              "      <td>165</td>\n",
              "      <td>2</td>\n",
              "    </tr>\n",
              "    <tr>\n",
              "      <th>2</th>\n",
              "      <td>2787.99</td>\n",
              "      <td>-1263.38</td>\n",
              "      <td>46</td>\n",
              "      <td>67</td>\n",
              "      <td>224</td>\n",
              "      <td>2</td>\n",
              "    </tr>\n",
              "    <tr>\n",
              "      <th>3</th>\n",
              "      <td>9545.98</td>\n",
              "      <td>-2848.93</td>\n",
              "      <td>26</td>\n",
              "      <td>138</td>\n",
              "      <td>554</td>\n",
              "      <td>4</td>\n",
              "    </tr>\n",
              "    <tr>\n",
              "      <th>4</th>\n",
              "      <td>14148.80</td>\n",
              "      <td>-2381.15</td>\n",
              "      <td>85</td>\n",
              "      <td>120</td>\n",
              "      <td>809</td>\n",
              "      <td>4</td>\n",
              "    </tr>\n",
              "    <tr>\n",
              "      <th>...</th>\n",
              "      <td>...</td>\n",
              "      <td>...</td>\n",
              "      <td>...</td>\n",
              "      <td>...</td>\n",
              "      <td>...</td>\n",
              "      <td>...</td>\n",
              "    </tr>\n",
              "    <tr>\n",
              "      <th>11994</th>\n",
              "      <td>52550.30</td>\n",
              "      <td>-2970.00</td>\n",
              "      <td>31</td>\n",
              "      <td>188</td>\n",
              "      <td>2599</td>\n",
              "      <td>3</td>\n",
              "    </tr>\n",
              "    <tr>\n",
              "      <th>11995</th>\n",
              "      <td>26761.00</td>\n",
              "      <td>-2776.53</td>\n",
              "      <td>87</td>\n",
              "      <td>156</td>\n",
              "      <td>1521</td>\n",
              "      <td>4</td>\n",
              "    </tr>\n",
              "    <tr>\n",
              "      <th>11996</th>\n",
              "      <td>36737.00</td>\n",
              "      <td>555.00</td>\n",
              "      <td>60</td>\n",
              "      <td>234</td>\n",
              "      <td>1581</td>\n",
              "      <td>2</td>\n",
              "    </tr>\n",
              "    <tr>\n",
              "      <th>11997</th>\n",
              "      <td>39610.60</td>\n",
              "      <td>-3110.00</td>\n",
              "      <td>17</td>\n",
              "      <td>196</td>\n",
              "      <td>1885</td>\n",
              "      <td>3</td>\n",
              "    </tr>\n",
              "    <tr>\n",
              "      <th>11998</th>\n",
              "      <td>280014.00</td>\n",
              "      <td>-9684.44</td>\n",
              "      <td>68</td>\n",
              "      <td>468</td>\n",
              "      <td>9276</td>\n",
              "      <td>5</td>\n",
              "    </tr>\n",
              "  </tbody>\n",
              "</table>\n",
              "<p>11999 rows × 6 columns</p>\n",
              "</div>"
            ],
            "text/plain": [
              "              SL      EEG  BP   HR  CIRCULATION  ACTIVITY\n",
              "0        4019.64 -1600.00  13   79          317         3\n",
              "1        2191.03 -1146.08  20   54          165         2\n",
              "2        2787.99 -1263.38  46   67          224         2\n",
              "3        9545.98 -2848.93  26  138          554         4\n",
              "4       14148.80 -2381.15  85  120          809         4\n",
              "...          ...      ...  ..  ...          ...       ...\n",
              "11994   52550.30 -2970.00  31  188         2599         3\n",
              "11995   26761.00 -2776.53  87  156         1521         4\n",
              "11996   36737.00   555.00  60  234         1581         2\n",
              "11997   39610.60 -3110.00  17  196         1885         3\n",
              "11998  280014.00 -9684.44  68  468         9276         5\n",
              "\n",
              "[11999 rows x 6 columns]"
            ]
          },
          "metadata": {
            "tags": []
          },
          "execution_count": 20
        }
      ]
    },
    {
      "cell_type": "markdown",
      "metadata": {
        "id": "JiP7emdmIOzl"
      },
      "source": [
        "KMeans comprobaciones"
      ]
    },
    {
      "cell_type": "code",
      "metadata": {
        "id": "ULXM5-oVIODK",
        "outputId": "01858164-afee-4d3c-e0e6-af1830b76580",
        "colab": {
          "base_uri": "https://localhost:8080/"
        }
      },
      "source": [
        "df = pd.read_csv('train.csv')\r\n",
        "estimatorKmeans = KMeans(n_clusters=5)\r\n",
        "estimatorKmeans.fit(df)"
      ],
      "execution_count": 27,
      "outputs": [
        {
          "output_type": "execute_result",
          "data": {
            "text/plain": [
              "KMeans(algorithm='auto', copy_x=True, init='k-means++', max_iter=300,\n",
              "       n_clusters=5, n_init=10, n_jobs=None, precompute_distances='auto',\n",
              "       random_state=None, tol=0.0001, verbose=0)"
            ]
          },
          "metadata": {
            "tags": []
          },
          "execution_count": 27
        }
      ]
    },
    {
      "cell_type": "markdown",
      "metadata": {
        "id": "xqnWh6RYIIbu"
      },
      "source": [
        "A través del método del codo comprobamos que el mejor numero de clusteres es 5, ya que es donde se aplana la curva"
      ]
    },
    {
      "cell_type": "code",
      "metadata": {
        "colab": {
          "base_uri": "https://localhost:8080/",
          "height": 281
        },
        "id": "zir3iMhCHCNG",
        "outputId": "8b64df92-27cf-4e46-850e-49638f956c94"
      },
      "source": [
        "def drawElbow(maxClusters,data):\r\n",
        "    kmeans = [KMeans(n_clusters=k).fit(data) for k in range(1,maxClusters)]\r\n",
        "    costFunction = [estimator.inertia_ for estimator in kmeans]\r\n",
        "    plt.plot(costFunction)\r\n",
        "    plt.title(\"Cost function\")\r\n",
        "    plt.show()\r\n",
        "drawElbow(15,df)"
      ],
      "execution_count": 28,
      "outputs": [
        {
          "output_type": "display_data",
          "data": {
            "image/png": "[encoded data removed]",
            "text/plain": [
              "<Figure size 432x288 with 1 Axes>"
            ]
          },
          "metadata": {
            "tags": [],
            "needs_background": "light"
          }
        }
      ]
    }
  ]
}