{
  "nbformat": 4,
  "nbformat_minor": 0,
  "metadata": {
    "kernelspec": {
      "display_name": "Python 3",
      "language": "python",
      "name": "python3"
    },
    "language_info": {
      "codemirror_mode": {
        "name": "ipython",
        "version": 3
      },
      "file_extension": ".py",
      "mimetype": "text/x-python",
      "name": "python",
      "nbconvert_exporter": "python",
      "pygments_lexer": "ipython3",
      "version": "3.6.7"
    },
    "colab": {
      "name": "practica8_1.ipynb",
      "provenance": [],
      "toc_visible": true,
      "include_colab_link": true
    }
  },
  "cells": [
    {
      "cell_type": "markdown",
      "metadata": {
        "id": "view-in-github",
        "colab_type": "text"
      },
      "source": [
        "<a href=\"https://colab.research.google.com/github/hesolar/TrabajoDistribuidos2020solar-escudero/blob/master/practica8_1.ipynb\" target=\"_parent\"><img src=\"https://colab.research.google.com/assets/colab-badge.svg\" alt=\"Open In Colab\"/></a>"
      ]
    },
    {
      "cell_type": "markdown",
      "metadata": {
        "id": "0izAe09R8Cfv"
      },
      "source": [
        "# Práctica 8. Ejercicio adicional 1: Sudoku. Parte II.\n",
        "\n",
        "Este notebook es el menos guiado de la asignatura. El objetivo es combinar todo lo que hemos visto a lo largo del curso para leer un Sudoku y resolverlo. Para ello tendrás que utilizar lo visto en la práctica anterior, y además [un algoritmo para resolver Sudokus](http://norvig.com/sudoku.html). A la hora de leer los dígitos del Sudoku puedes utilizar cualquiera de estas aproximaciones:\n",
        "- Utilizar propiedades de contornos como vimos en la práctica anterior. \n",
        "- [Utilizar la librería pytesseract](https://www.pyimagesearch.com/2020/09/21/opencv-automatic-license-number-plate-recognition-anpr-with-python/). \n",
        "- [Entrenar un modelo basado en el dataset MNIST](https://www.pyimagesearch.com/2020/08/10/opencv-sudoku-solver-and-ocr/)."
      ]
    },
    {
      "cell_type": "markdown",
      "metadata": {
        "id": "bH0mBID_5Sfz"
      },
      "source": [
        "Tomo la función para mostrar un tablero de la práctica 7 parte 2, también la funcion para saber cuando un tablero está vacio\n"
      ]
    },
    {
      "cell_type": "code",
      "metadata": {
        "id": "VtX7goDi6gQz"
      },
      "source": [
        "def mostrarImagen(image):\n",
        "    if len(image.shape)==3:\n",
        "        img2 = image[:,:,::-1]\n",
        "        plt.imshow(img2)\n",
        "        plt.show()\n",
        "    else:\n",
        "        img2 = image\n",
        "        plt.imshow(img2,cmap='gray')\n",
        "        plt.show()\n",
        "\n",
        "import cv2\n",
        "import matplotlib.pyplot as plt\n",
        "import numpy as np\n",
        "import imutils\n",
        "%matplotlib inline "
      ],
      "execution_count": 5,
      "outputs": []
    },
    {
      "cell_type": "code",
      "metadata": {
        "id": "AlAie0ez49hm"
      },
      "source": [
        "def PixelesRGBBlancos(img):\n",
        "  clonacion=img.copy()\n",
        "  for a in range (clonacion.shape[0]):\n",
        "    for b in range(clonacion.shape[1]):\n",
        "      r,g,b = clonacion[a,b] #colores rgb \n",
        "      if r!=255 or g !=255 or b!=255: \n",
        "        return 'black'\n",
        "  return 'white'\n",
        "\n",
        "def generaTablero(tablero):\n",
        "    resultado=[]\n",
        "    tablero=cv2.imread(tablero)\n",
        "    escala = cv2.resize(tablero,(372,372))\n",
        "    i=0\n",
        "\n",
        "\n",
        "    clone = escala.copy()\n",
        "    gray = cv2.cvtColor(clone, cv2.COLOR_BGR2GRAY)\n",
        "    cnts,_ = cv2.findContours(gray.copy(), cv2.RETR_LIST, cv2.CHAIN_APPROX_SIMPLE)\n",
        "    casillas=[]\n",
        "    for (i, c) in enumerate(cnts):\n",
        "    # Calculo el area y el recangulo que lo contiene\n",
        "      area = cv2.contourArea(c)\n",
        "      (x, y, w, h) = cv2.boundingRect(c)\n",
        "    \n",
        "     \n",
        "    \n",
        "      #aproximadamente el area se encuentra entre 1000 y 1800\n",
        "      if area>1000 and area <1800:\n",
        "        #quito unos pixeles para que no se vea el borde de la casilla\n",
        "        resultado.append(clone[y+5:y+h-5,x+5:x+h-5])\n",
        "        \n",
        "    return resultado"
      ],
      "execution_count": 94,
      "outputs": []
    },
    {
      "cell_type": "code",
      "metadata": {
        "colab": {
          "base_uri": "https://localhost:8080/"
        },
        "id": "1WI4KrXT6Tcv",
        "outputId": "34504b28-a221-4677-ed3a-509364592c54"
      },
      "source": [
        "imgs=generaTablero('sudoku.png')\n",
        "print(len(imgs))\n",
        "matrizSudoku=[]\n",
        "\n",
        "for i in range(0,81):\n",
        "  # numero=0\n",
        "  # # mostrarImagen(imgs[i])\n",
        "  # if PixelesRGBBlancos(imgs[i])=='black':\n",
        "  #     #numero=pytesseract.image_to_string(imgs[0],config=options)\n",
        "  #     numero=1\n",
        "  matrizSudoku.append(i)\n",
        "\n",
        "\n",
        "grid = [\n",
        "            [0, 0, 0, 8, 0, 3, 0, 0, 6],\n",
        "            [0, 1, 0, 9, 0, 0, 7, 0, 8],\n",
        "            [0, 0, 0, 0, 4, 0, 0, 0, 9],\n",
        "            [2, 0, 0, 0, 0, 4, 0, 6, 0],\n",
        "            [4, 0, 7, 0, 0, 0, 9, 0, 0],\n",
        "            [0, 5, 0, 7, 0, 0, 0, 0, 1],\n",
        "            [7, 0, 0, 0, 3, 0, 0, 0, 0],\n",
        "            [3, 0, 6, 0, 0, 8, 0, 7, 0],\n",
        "            [0, 0, 0, 2, 0, 7, 0, 0, 0],\n",
        "]\n",
        "\n",
        "i=0\n",
        "for columna in range(0,9):\n",
        "  for fila in range(0,9):\n",
        "    grid[fila][columna]=matrizSudoku[i]\n",
        "    i=i+1\n",
        "\n",
        "\n",
        "print(grid)     \n",
        "\n",
        "  # model.predict(im.reshape(1, -1))\n"
      ],
      "execution_count": 106,
      "outputs": [
        {
          "output_type": "stream",
          "text": [
            "81\n",
            "[[0, 9, 18, 27, 36, 45, 54, 63, 72], [1, 10, 19, 28, 37, 46, 55, 64, 73], [2, 11, 20, 29, 38, 47, 56, 65, 74], [3, 12, 21, 30, 39, 48, 57, 66, 75], [4, 13, 22, 31, 40, 49, 58, 67, 76], [5, 14, 23, 32, 41, 50, 59, 68, 77], [6, 15, 24, 33, 42, 51, 60, 69, 78], [7, 16, 25, 34, 43, 52, 61, 70, 79], [8, 17, 26, 35, 44, 53, 62, 71, 80]]\n"
          ],
          "name": "stdout"
        }
      ]
    },
    {
      "cell_type": "markdown",
      "metadata": {
        "id": "n5YwUf854-kO"
      },
      "source": [
        "Tomo un programa ya hecho de realizacion de sudokus:\n",
        "https://recursospython.com/codigos-de-fuente/solucionador-de-sudoku/"
      ]
    },
    {
      "cell_type": "code",
      "metadata": {
        "collapsed": true,
        "id": "95Sg-jlt8CgB",
        "colab": {
          "base_uri": "https://localhost:8080/"
        },
        "outputId": "fdaacf26-8536-415a-a7a5-d75c7332cbe0"
      },
      "source": [
        "#!/usr/bin/env python\n",
        "# -*- coding: utf-8 -*-\n",
        "from random import choice\n",
        "def number_in_row(grid, row, number):\n",
        "    \"\"\"\n",
        "    Chequear si un número se encuentra en la fila especificada.\n",
        "    \"\"\"\n",
        "    return number in grid[row]\n",
        "def number_in_col(grid, col, number):\n",
        "    \"\"\"\n",
        "    Chequear si un número se encuentra en la columna especificada.\n",
        "    \"\"\"\n",
        "    return number in (row[col] for row in grid)\n",
        "def number_in_box(grid, row, col, number):\n",
        "    \"\"\"\n",
        "    Chequear si un número se encuentra en la caja a la que\n",
        "    corresponde la posición especificada.\n",
        "    \"\"\"\n",
        "    # Obtener la caja a la que pertenece el número.\n",
        "    box_row, box_col = box_by_pos(row, col)\n",
        "    # Construir una lista con los números en la caja.\n",
        "    numbers_in_box = unpack(\n",
        "        row[box_col*3:box_col*3 + 3]\n",
        "        for row in grid[box_row*3:box_row*3 + 3]\n",
        "    )\n",
        "    return number in numbers_in_box\n",
        "def reduce(n):\n",
        "    \"\"\"\n",
        "    Reducir la posición 9x9 a 3x3.\n",
        "    \"\"\"\n",
        "    n /= 3\n",
        "    if n == 0 or n != int(n):\n",
        "        n += 1\n",
        "    return int(n)\n",
        "def box_by_pos(row, col):\n",
        "    # Trabajar temporalmente con base 1.\n",
        "    row += 1\n",
        "    col += 1\n",
        "    # Obtener base 0 nuevamente.\n",
        "    return reduce(row) - 1, reduce(col) - 1\n",
        "def unpack(iterable):\n",
        "    \"\"\"\n",
        "    >>> list(unpack([[1, 2], [3, 4]]))\n",
        "    [1, 2, 3, 4]\n",
        "    \"\"\"\n",
        "    for item in iterable:\n",
        "        yield from item\n",
        "def get_possible_numbers(grid, row, col):\n",
        "    \"\"\"\n",
        "    Retorna números posibles para una determinada posición.\n",
        "    \"\"\"\n",
        "    for number in range(1, 10):\n",
        "        if (not number_in_row(grid, row, number) and\n",
        "            not number_in_col(grid, col, number) and\n",
        "            not number_in_box(grid, row, col, number)):\n",
        "            yield number\n",
        "\n",
        "\n",
        "def main(matrix):\n",
        "    while True:\n",
        "        # Los ceros representan casilleros vacíos.\n",
        "        grid = [\n",
        "            [0, 0, 0, 8, 0, 3, 0, 0, 6],\n",
        "            [0, 1, 0, 9, 0, 0, 7, 0, 8],\n",
        "            [0, 0, 0, 0, 4, 0, 0, 0, 9],\n",
        "            [2, 0, 0, 0, 0, 4, 0, 6, 0],\n",
        "            [4, 0, 7, 0, 0, 0, 9, 0, 0],\n",
        "            [0, 5, 0, 7, 0, 0, 0, 0, 1],\n",
        "            [7, 0, 0, 0, 3, 0, 0, 0, 0],\n",
        "            [3, 0, 6, 0, 0, 8, 0, 7, 0],\n",
        "            [0, 0, 0, 2, 0, 7, 0, 0, 0],\n",
        "        ]\n",
        "        \n",
        "        s = \\\n",
        "        \"\"\"\\\n",
        "        +-----------------------+\n",
        "        | {} {} {} | {} {} {} | {} {} {} |\n",
        "        | {} {} {} | {} {} {} | {} {} {} |\n",
        "        | {} {} {} | {} {} {} | {} {} {} |\n",
        "        +-----------------------+\n",
        "        | {} {} {} | {} {} {} | {} {} {} |\n",
        "        | {} {} {} | {} {} {} | {} {} {} |\n",
        "        | {} {} {} | {} {} {} | {} {} {} |\n",
        "        +-----------------------+\n",
        "        | {} {} {} | {} {} {} | {} {} {} |\n",
        "        | {} {} {} | {} {} {} | {} {} {} |\n",
        "        | {} {} {} | {} {} {} | {} {} {} |\n",
        "        +-----------------------+\n",
        "        \"\"\"\n",
        "        \n",
        "        while True:\n",
        "            possible_numbers = {\n",
        "                (row, col): None for row in range(9) for col in range(9)\n",
        "            }\n",
        "            \n",
        "            # Obtener una lista de números posibles para cada una de \n",
        "            # las posiciones vacías.\n",
        "            for row in range(9):\n",
        "                for col in range(9):\n",
        "                    number = grid[row][col]\n",
        "                    if number == 0:\n",
        "                        options = list(\n",
        "                            get_possible_numbers(grid, row, col)\n",
        "                        )\n",
        "                        if options:\n",
        "                            possible_numbers[(row, col)] = options\n",
        "            \n",
        "            # Remover valores vacíos y ordenar por la cantidad de \n",
        "            # posibilidades.\n",
        "            possible_numbers = sorted(\n",
        "                (\n",
        "                    (k, v)\n",
        "                    for (k, v) in possible_numbers.items()\n",
        "                    if v is not None\n",
        "                ),\n",
        "                key=lambda kv: len(kv[1])\n",
        "            )\n",
        "            \n",
        "            if possible_numbers:\n",
        "                # Obtener el primer item.\n",
        "                (row, col), numbers = possible_numbers[0]\n",
        "                # Fuerza bruta: obtener un número aleatorio de la \n",
        "                # lista de posibiilidades hasta que la grilla esté\n",
        "                # completa.\n",
        "                grid[row][col] = choice(numbers)\n",
        "            else:\n",
        "                break\n",
        "        \n",
        "        # Chequear si la fuerza bruta dió resultado: si no hay más \n",
        "        # ceros en la grilla entonces el Sudoku está resuelto.\n",
        "        if 0 not in unpack(grid):\n",
        "            print(s.format(*(unpack(grid))))\n",
        "            break\n",
        "if __name__ == \"__main__\":\n",
        "    main('a')"
      ],
      "execution_count": 3,
      "outputs": [
        {
          "output_type": "stream",
          "text": [
            "        +-----------------------+\n",
            "        | 5 4 9 | 8 7 3 | 2 1 6 |\n",
            "        | 6 1 3 | 9 2 5 | 7 4 8 |\n",
            "        | 8 7 2 | 1 4 6 | 3 5 9 |\n",
            "        +-----------------------+\n",
            "        | 2 3 1 | 5 9 4 | 8 6 7 |\n",
            "        | 4 6 7 | 3 8 1 | 9 2 5 |\n",
            "        | 9 5 8 | 7 6 2 | 4 3 1 |\n",
            "        +-----------------------+\n",
            "        | 7 2 5 | 6 3 9 | 1 8 4 |\n",
            "        | 3 9 6 | 4 1 8 | 5 7 2 |\n",
            "        | 1 8 4 | 2 5 7 | 6 9 3 |\n",
            "        +-----------------------+\n",
            "        \n"
          ],
          "name": "stdout"
        }
      ]
    },
    {
      "cell_type": "markdown",
      "metadata": {
        "id": "h_pQB4ihHh20"
      },
      "source": [
        "Clasificar digitos\n"
      ]
    },
    {
      "cell_type": "markdown",
      "metadata": {
        "id": "PUMrDJSfjEqc"
      },
      "source": [
        "---------------------------------------------------------"
      ]
    },
    {
      "cell_type": "code",
      "metadata": {
        "id": "RUadhxdbkNam",
        "outputId": "a4ec4ce9-3c4c-4002-b85a-ec2197a18953",
        "colab": {
          "base_uri": "https://localhost:8080/"
        }
      },
      "source": [
        "!pip install pytesseract\n",
        "!apt install tesseract-ocr\n",
        "import pytesseract\n",
        "def build_tesseract_options( psm=7):\n",
        "\t\t# tell Tesseract to only OCR alphanumeric characters\n",
        "\t\talphanumeric = \"ABCDEFGHIJKLMNOPQRSTUVWXYZ0123456789\"\n",
        "\t\toptions = \"-c tessedit_char_whitelist={}\".format(alphanumeric)\n",
        "\t\t# set the PSM mode\n",
        "\t\toptions += \" --psm {}\".format(psm)\n",
        "\t\t# return the built options string\n",
        "\t\treturn options"
      ],
      "execution_count": 81,
      "outputs": [
        {
          "output_type": "stream",
          "text": [
            "Requirement already satisfied: pytesseract in /usr/local/lib/python3.7/dist-packages (0.3.7)\n",
            "Requirement already satisfied: Pillow in /usr/local/lib/python3.7/dist-packages (from pytesseract) (7.1.2)\n",
            "Reading package lists... Done\n",
            "Building dependency tree       \n",
            "Reading state information... Done\n",
            "tesseract-ocr is already the newest version (4.00~git2288-10f4998a-2).\n",
            "The following package was automatically installed and is no longer required:\n",
            "  libnvidia-common-460\n",
            "Use 'apt autoremove' to remove it.\n",
            "0 upgraded, 0 newly installed, 0 to remove and 34 not upgraded.\n"
          ],
          "name": "stdout"
        }
      ]
    },
    {
      "cell_type": "code",
      "metadata": {
        "id": "R0OPHwb-kb6h"
      },
      "source": [
        "options = build_tesseract_options(psm=7)\n",
        "imagen=cv2.imread('b.png')\n",
        "pytesseract.image_to_string(imagen,config=options)"
      ],
      "execution_count": null,
      "outputs": []
    },
    {
      "cell_type": "code",
      "metadata": {
        "id": "pCqmBynPleqy"
      },
      "source": [
        ""
      ],
      "execution_count": null,
      "outputs": []
    },
    {
      "cell_type": "code",
      "metadata": {
        "id": "e4c3rBw1leow"
      },
      "source": [
        ""
      ],
      "execution_count": null,
      "outputs": []
    },
    {
      "cell_type": "code",
      "metadata": {
        "id": "AlOvNF-dlelt"
      },
      "source": [
        ""
      ],
      "execution_count": null,
      "outputs": []
    },
    {
      "cell_type": "code",
      "metadata": {
        "id": "53xobusylejv"
      },
      "source": [
        ""
      ],
      "execution_count": null,
      "outputs": []
    },
    {
      "cell_type": "code",
      "metadata": {
        "id": "aTzXN-aOlegp"
      },
      "source": [
        ""
      ],
      "execution_count": null,
      "outputs": []
    },
    {
      "cell_type": "code",
      "metadata": {
        "id": "-tYORsFaledq"
      },
      "source": [
        ""
      ],
      "execution_count": null,
      "outputs": []
    },
    {
      "cell_type": "code",
      "metadata": {
        "id": "Zveyzqb3g1qG"
      },
      "source": [
        "pytesseract.pytesseract.tesseract_cmd = r'/usr/local/bin/pytesseract'\n",
        "! apt install tesseract-ocr\n",
        "! apt install libtesseract-dev\n",
        "! pip install Pillow\n",
        "! pip install pytesseract"
      ],
      "execution_count": 63,
      "outputs": []
    },
    {
      "cell_type": "code",
      "metadata": {
        "id": "ChuzgimXiyrH"
      },
      "source": [
        "import pytesseract\n",
        "from PIL import ImageEnhance, ImageFilter, Image"
      ],
      "execution_count": 64,
      "outputs": []
    },
    {
      "cell_type": "code",
      "metadata": {
        "id": "Far6gpNQhFPR"
      },
      "source": [
        "tablero=cv2.imread('a.jpg')\n",
        "\n",
        "b=getNumber(tablero)"
      ],
      "execution_count": null,
      "outputs": []
    },
    {
      "cell_type": "code",
      "metadata": {
        "id": "mVqUYd7IhFMy"
      },
      "source": [
        ""
      ],
      "execution_count": null,
      "outputs": []
    },
    {
      "cell_type": "code",
      "metadata": {
        "id": "-YzZmNOXhFJ2"
      },
      "source": [
        ""
      ],
      "execution_count": null,
      "outputs": []
    },
    {
      "cell_type": "code",
      "metadata": {
        "id": "VeLVLtCKhFHY"
      },
      "source": [
        ""
      ],
      "execution_count": null,
      "outputs": []
    },
    {
      "cell_type": "code",
      "metadata": {
        "id": "NOrZbdyZhE-h"
      },
      "source": [
        ""
      ],
      "execution_count": null,
      "outputs": []
    },
    {
      "cell_type": "markdown",
      "metadata": {
        "id": "y-DGXMck8CgC"
      },
      "source": [
        "Al finalizar el notebook recuerda guardarlo usando la opción *\"Save in Github...\"*. "
      ]
    }
  ]
}